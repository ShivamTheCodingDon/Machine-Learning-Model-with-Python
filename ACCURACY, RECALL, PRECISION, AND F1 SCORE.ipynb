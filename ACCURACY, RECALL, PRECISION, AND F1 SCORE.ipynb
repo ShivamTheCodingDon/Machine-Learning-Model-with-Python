{
 "cells": [
  {
   "cell_type": "markdown",
   "id": "2c0b5893",
   "metadata": {},
   "source": [
    "# Accuracy"
   ]
  },
  {
   "cell_type": "markdown",
   "id": "4749cb7c",
   "metadata": {},
   "source": [
    "The simplest way of reporting the effectiveness of an algorithm is by calculating its accuracy. Accuracy is calculated by finding the total number of correctly classified points and dividing by the total number of points.\n",
    "\n",
    "Let’s say you’re using a machine learning algorithm to try to predict whether or not you will get above a B on a test. The features of your data could be something like:\n",
    "\n",
    "* The number of hours you studied this week.\n",
    "* The number of hours you watched Netflix this week.\n",
    "* The time you went to bed the night before the test.\n",
    "* Your average in the class before taking the test."
   ]
  },
  {
   "attachments": {
    "accuracy.png": {
     "image/png": "[encoded data removed]"
    }
   },
   "cell_type": "markdown",
   "id": "faca97d5",
   "metadata": {},
   "source": [
    "In other words, accuracy can be defined as:\n",
    "\n",
    "![accuracy.png](attachment:accuracy.png)"
   ]
  },
  {
   "cell_type": "markdown",
   "id": "687cfff3",
   "metadata": {},
   "source": [
    "Let’s define those terms in the context of our grade example :\n",
    "\n",
    "* **True Positive**: The algorithm predicted you would get above a B, and you did.\n",
    "* **True Negative**: The algorithm predicted you would get below a B, and you did.\n",
    "* **False Positive**: The algorithm predicted you would get above a B, and you didn’t.\n",
    "* **False Negative**: The algorithm predicted you would get below a B, and you didn’t."
   ]
  },
  {
   "cell_type": "code",
   "execution_count": 2,
   "id": "7e205176",
   "metadata": {},
   "outputs": [],
   "source": [
    "labels = [1, 0, 0, 1, 1, 1, 0, 1, 1, 1]\n",
    "guesses = [0, 1, 1, 1, 1, 0, 1, 0, 1, 0]"
   ]
  },
  {
   "cell_type": "code",
   "execution_count": 2,
   "id": "d811985b",
   "metadata": {},
   "outputs": [],
   "source": [
    "true_positives = 0\n",
    "true_negatives = 0\n",
    "false_positives = 0\n",
    "false_negatives = 0"
   ]
  },
  {
   "cell_type": "code",
   "execution_count": 3,
   "id": "76819c9d",
   "metadata": {},
   "outputs": [],
   "source": [
    "for i in range(len(guesses)):\n",
    "    #True Positives\n",
    "    if labels[i] == 1 and guesses[i] == 1:\n",
    "        true_positives += 1\n",
    "    #True Negatives\n",
    "    if labels[i] == 0 and guesses[i] == 0:\n",
    "        true_negatives += 1\n",
    "    #False Positives\n",
    "    if labels[i] == 0 and guesses[i] == 1:\n",
    "        false_positives += 1\n",
    "    #False Negatives\n",
    "    if labels[i] == 1 and guesses[i] == 0:\n",
    "        false_negatives += 1"
   ]
  },
  {
   "cell_type": "code",
   "execution_count": 4,
   "id": "56835ddf",
   "metadata": {},
   "outputs": [
    {
     "data": {
      "text/plain": [
       "0.3"
      ]
     },
     "execution_count": 4,
     "metadata": {},
     "output_type": "execute_result"
    }
   ],
   "source": [
    "accuracy = (true_positives + true_negatives) / len(guesses)\n",
    "accuracy"
   ]
  },
  {
   "cell_type": "markdown",
   "id": "a3a9f7c3",
   "metadata": {},
   "source": [
    "# Recall"
   ]
  },
  {
   "attachments": {
    "recall.png": {
     "image/png": "[encoded data removed]"
    }
   },
   "cell_type": "markdown",
   "id": "1b2392d3",
   "metadata": {},
   "source": [
    "Accuracy can be an extremely misleading statistic depending on your data.\n",
    "\n",
    "In this situation, the statistic that would be helpful is recall. Recall measures the percentage of relevant items that your classifier found.\n",
    "\n",
    "![recall.png](attachment:recall.png)"
   ]
  },
  {
   "cell_type": "markdown",
   "id": "cd429d7d",
   "metadata": {},
   "source": [
    "In essence, recall tells you what proportion of actual positive instances in the dataset were correctly identified by the model.\n",
    "\n",
    "A high recall value is desirable when the cost of false negatives is high. For example, in a medical diagnosis system, you would want high recall to ensure that as many positive cases (e.g., patients with a disease) as possible are correctly identified, even if it means some false positives (healthy patients misclassified as having the disease).\n",
    "\n",
    "Remember that recall should be used in combination with other metrics, like precision and F1 score, to get a more comprehensive evaluation of the model's performance."
   ]
  },
  {
   "cell_type": "code",
   "execution_count": 5,
   "id": "5694dff7",
   "metadata": {},
   "outputs": [
    {
     "data": {
      "text/plain": [
       "0.42857142857142855"
      ]
     },
     "execution_count": 5,
     "metadata": {},
     "output_type": "execute_result"
    }
   ],
   "source": [
    "recall = true_positives/(true_positives + false_negatives)\n",
    "recall"
   ]
  },
  {
   "cell_type": "markdown",
   "id": "8ce06f3b",
   "metadata": {},
   "source": [
    "# Precision\n",
    "\n",
    "\n",
    "Precision is another metric used to evaluate the performance of a classification model, especially in binary classification problems. It measures the ability of the model to correctly identify positive predictions among all the instances that the model predicted as positive."
   ]
  },
  {
   "cell_type": "markdown",
   "id": "4dafde6a",
   "metadata": {},
   "source": [
    "**Precision = True Positives / (True Positives + False Positives)**"
   ]
  },
  {
   "cell_type": "markdown",
   "id": "0d59c590",
   "metadata": {},
   "source": [
    "where:\n",
    "\n",
    "* True Positives (TP) are the number of correctly predicted positive instances.\n",
    "* False Positives (FP) are the number of negative instances that were incorrectly classified as positive by the model.\n",
    "\n",
    "Precision focuses on the positive predictions made by the model, and it tells you what proportion of predicted positive instances were actually correct.\n",
    "\n",
    "A high precision value is desirable when the cost of false positives is high. For instance, in a spam email detection system, high precision is crucial as you want to minimize the number of legitimate emails (false positives) that are classified as spam."
   ]
  },
  {
   "cell_type": "code",
   "execution_count": 6,
   "id": "42c34c96",
   "metadata": {},
   "outputs": [
    {
     "data": {
      "text/plain": [
       "0.5"
      ]
     },
     "execution_count": 6,
     "metadata": {},
     "output_type": "execute_result"
    }
   ],
   "source": [
    "precision = true_positives/(true_positives + false_positives)\n",
    "precision"
   ]
  },
  {
   "cell_type": "markdown",
   "id": "76dd2d51",
   "metadata": {},
   "source": [
    "# F1 Score"
   ]
  },
  {
   "cell_type": "markdown",
   "id": "c8e5fc02",
   "metadata": {},
   "source": [
    "The F1 score is a single metric that combines both precision and recall into one performance measure for a classification model, particularly in binary classification problems. It provides a balanced evaluation that takes into account both false positives and false negatives.\n",
    "\n",
    "The F1 score is calculated as the harmonic mean of precision and recall:\n",
    "\n",
    "**F1 Score = 2 * (Precision * Recall) / (Precision + Recall)**"
   ]
  },
  {
   "cell_type": "markdown",
   "id": "6e469f49",
   "metadata": {},
   "source": [
    "where:\n",
    "\n",
    "* Precision is the true positives divided by the sum of true positives and false positives.\n",
    "* Recall is the true positives divided by the sum of true positives and false negatives.\n",
    "\n",
    "The F1 score ranges from 0 to 1, with 1 being the best possible score, representing perfect precision and recall, and 0 being the worst score, indicating poor performance.\n",
    "\n",
    "The F1 score is especially useful when you want to find a balance between precision and recall. In some scenarios, you may want to achieve both high precision and high recall, but in many cases, there is a trade-off between the two. The F1 score penalizes models that have imbalanced precision and recall, making it a more robust metric for overall performance evaluation."
   ]
  },
  {
   "cell_type": "code",
   "execution_count": 7,
   "id": "8d39262f",
   "metadata": {},
   "outputs": [
    {
     "data": {
      "text/plain": [
       "0.4615384615384615"
      ]
     },
     "execution_count": 7,
     "metadata": {},
     "output_type": "execute_result"
    }
   ],
   "source": [
    "f_1 = 2*(precision * recall)/(precision + recall)\n",
    "f_1"
   ]
  },
  {
   "cell_type": "markdown",
   "id": "0bfa882e",
   "metadata": {},
   "source": [
    "* Accuracy measures how many classifications your algorithm got correct out of every classification it made.\n",
    "* Recall measures the percentage of the relevant items your classifier was able to successfully find.\n",
    "* Precision measures the percentage of items your classifier found that were actually relevant.\n",
    "* Precision and recall are tied to each other. As one goes up, the other will go down.\n",
    "* F1 score is a combination of precision and recall.\n",
    "* F1 score will be low if either precision or recall is low."
   ]
  },
  {
   "cell_type": "markdown",
   "id": "8619b450",
   "metadata": {},
   "source": [
    "The Python library scikit-learn has some functions that will calculate these statistics for you!"
   ]
  },
  {
   "cell_type": "code",
   "execution_count": 6,
   "id": "9c9c454f",
   "metadata": {
    "collapsed": true
   },
   "outputs": [
    {
     "name": "stdout",
     "output_type": "stream",
     "text": [
      "Collecting scikit-learn\n",
      "  Obtaining dependency information for scikit-learn from https://files.pythonhosted.org/packages/77/85/bff3a1e818ec6aa3dd466ff4f4b0a727db9fdb41f2e849747ad902ddbe95/scikit_learn-1.3.0-cp311-cp311-win_amd64.whl.metadata\n",
      "  Downloading scikit_learn-1.3.0-cp311-cp311-win_amd64.whl.metadata (11 kB)\n",
      "Requirement already satisfied: numpy>=1.17.3 in c:\\users\\aman\\appdata\\roaming\\python\\python311\\site-packages (from scikit-learn) (1.23.4)\n",
      "Collecting scipy>=1.5.0 (from scikit-learn)\n",
      "  Obtaining dependency information for scipy>=1.5.0 from https://files.pythonhosted.org/packages/04/b8/947f40706ee2e316fd1a191688f690c4c2b351c2d043fe9deb9b7940e36e/scipy-1.11.1-cp311-cp311-win_amd64.whl.metadata\n",
      "  Downloading scipy-1.11.1-cp311-cp311-win_amd64.whl.metadata (59 kB)\n",
      "     ---------------------------------------- 0.0/59.1 kB ? eta -:--:--\n",
      "     --------------------------- ------------ 41.0/59.1 kB 2.0 MB/s eta 0:00:01\n",
      "     ---------------------------------------- 59.1/59.1 kB 1.0 MB/s eta 0:00:00\n",
      "Collecting joblib>=1.1.1 (from scikit-learn)\n",
      "  Obtaining dependency information for joblib>=1.1.1 from https://files.pythonhosted.org/packages/28/08/9dcdaa5aac4634e4c23af26d92121f7ce445c630efa0d3037881ae2407fb/joblib-1.3.1-py3-none-any.whl.metadata\n",
      "  Downloading joblib-1.3.1-py3-none-any.whl.metadata (5.4 kB)\n",
      "Collecting threadpoolctl>=2.0.0 (from scikit-learn)\n",
      "  Obtaining dependency information for threadpoolctl>=2.0.0 from https://files.pythonhosted.org/packages/81/12/fd4dea011af9d69e1cad05c75f3f7202cdcbeac9b712eea58ca779a72865/threadpoolctl-3.2.0-py3-none-any.whl.metadata\n",
      "  Downloading threadpoolctl-3.2.0-py3-none-any.whl.metadata (10.0 kB)\n",
      "Downloading scikit_learn-1.3.0-cp311-cp311-win_amd64.whl (9.2 MB)\n",
      "   ---------------------------------------- 0.0/9.2 MB ? eta -:--:--\n",
      "    --------------------------------------- 0.1/9.2 MB 2.8 MB/s eta 0:00:04\n",
      "   - -------------------------------------- 0.4/9.2 MB 4.2 MB/s eta 0:00:03\n",
      "   ---- ----------------------------------- 1.0/9.2 MB 6.8 MB/s eta 0:00:02\n",
      "   ------- -------------------------------- 1.7/9.2 MB 8.8 MB/s eta 0:00:01\n",
      "   ------------ --------------------------- 2.9/9.2 MB 12.5 MB/s eta 0:00:01\n",
      "   ---------------------- ----------------- 5.1/9.2 MB 18.1 MB/s eta 0:00:01\n",
      "   ------------------------------- -------- 7.3/9.2 MB 22.3 MB/s eta 0:00:01\n",
      "   ----------------------------------- ---- 8.2/9.2 MB 23.9 MB/s eta 0:00:01\n",
      "   -------------------------------------- - 8.9/9.2 MB 22.0 MB/s eta 0:00:01\n",
      "   ---------------------------------------- 9.2/9.2 MB 20.3 MB/s eta 0:00:00\n",
      "Downloading joblib-1.3.1-py3-none-any.whl (301 kB)\n",
      "   ---------------------------------------- 0.0/302.0 kB ? eta -:--:--\n",
      "   --------------------------------------- 302.0/302.0 kB 18.2 MB/s eta 0:00:00\n",
      "Downloading scipy-1.11.1-cp311-cp311-win_amd64.whl (44.0 MB)\n",
      "   ---------------------------------------- 0.0/44.0 MB ? eta -:--:--\n",
      "   ---------------------------------------- 0.5/44.0 MB 11.3 MB/s eta 0:00:04\n",
      "    --------------------------------------- 0.6/44.0 MB 6.4 MB/s eta 0:00:07\n",
      "    --------------------------------------- 0.6/44.0 MB 6.4 MB/s eta 0:00:07\n",
      "    --------------------------------------- 0.6/44.0 MB 6.4 MB/s eta 0:00:07\n",
      "   - -------------------------------------- 1.1/44.0 MB 4.9 MB/s eta 0:00:09\n",
      "   - -------------------------------------- 1.7/44.0 MB 6.0 MB/s eta 0:00:08\n",
      "   - -------------------------------------- 2.0/44.0 MB 6.4 MB/s eta 0:00:07\n",
      "   - -------------------------------------- 2.2/44.0 MB 6.3 MB/s eta 0:00:07\n",
      "   -- ------------------------------------- 2.6/44.0 MB 6.1 MB/s eta 0:00:07\n",
      "   -- ------------------------------------- 2.7/44.0 MB 5.7 MB/s eta 0:00:08\n",
      "   -- ------------------------------------- 3.1/44.0 MB 6.0 MB/s eta 0:00:07\n",
      "   --- ------------------------------------ 3.5/44.0 MB 6.2 MB/s eta 0:00:07\n",
      "   --- ------------------------------------ 3.7/44.0 MB 6.1 MB/s eta 0:00:07\n",
      "   --- ------------------------------------ 4.0/44.0 MB 6.2 MB/s eta 0:00:07\n",
      "   --- ------------------------------------ 4.3/44.0 MB 6.2 MB/s eta 0:00:07\n",
      "   ---- ----------------------------------- 4.6/44.0 MB 6.1 MB/s eta 0:00:07\n",
      "   ---- ----------------------------------- 4.8/44.0 MB 6.1 MB/s eta 0:00:07\n",
      "   ---- ----------------------------------- 5.1/44.0 MB 6.1 MB/s eta 0:00:07\n",
      "   ---- ----------------------------------- 5.3/44.0 MB 6.0 MB/s eta 0:00:07\n",
      "   ----- ---------------------------------- 5.5/44.0 MB 6.0 MB/s eta 0:00:07\n",
      "   ----- ---------------------------------- 5.8/44.0 MB 5.9 MB/s eta 0:00:07\n",
      "   ----- ---------------------------------- 6.0/44.0 MB 5.9 MB/s eta 0:00:07\n",
      "   ----- ---------------------------------- 6.2/44.0 MB 5.9 MB/s eta 0:00:07\n",
      "   ----- ---------------------------------- 6.5/44.0 MB 5.8 MB/s eta 0:00:07\n",
      "   ------ --------------------------------- 6.7/44.0 MB 5.8 MB/s eta 0:00:07\n",
      "   ------ --------------------------------- 7.0/44.0 MB 5.8 MB/s eta 0:00:07\n",
      "   ------ --------------------------------- 7.2/44.0 MB 5.7 MB/s eta 0:00:07\n",
      "   ------ --------------------------------- 7.4/44.0 MB 5.7 MB/s eta 0:00:07\n",
      "   ------ --------------------------------- 7.6/44.0 MB 5.7 MB/s eta 0:00:07\n",
      "   ------- -------------------------------- 7.8/44.0 MB 5.6 MB/s eta 0:00:07\n",
      "   ------- -------------------------------- 8.1/44.0 MB 5.6 MB/s eta 0:00:07\n",
      "   ------- -------------------------------- 8.4/44.0 MB 5.6 MB/s eta 0:00:07\n",
      "   ------- -------------------------------- 8.6/44.0 MB 5.6 MB/s eta 0:00:07\n",
      "   -------- ------------------------------- 8.8/44.0 MB 5.6 MB/s eta 0:00:07\n",
      "   -------- ------------------------------- 9.1/44.0 MB 5.6 MB/s eta 0:00:07\n",
      "   -------- ------------------------------- 9.3/44.0 MB 5.6 MB/s eta 0:00:07\n",
      "   -------- ------------------------------- 9.6/44.0 MB 5.6 MB/s eta 0:00:07\n",
      "   -------- ------------------------------- 9.8/44.0 MB 5.5 MB/s eta 0:00:07\n",
      "   --------- ------------------------------ 10.0/44.0 MB 5.5 MB/s eta 0:00:07\n",
      "   --------- ------------------------------ 10.3/44.0 MB 5.5 MB/s eta 0:00:07\n",
      "   --------- ------------------------------ 10.5/44.0 MB 5.4 MB/s eta 0:00:07\n",
      "   --------- ------------------------------ 10.7/44.0 MB 5.3 MB/s eta 0:00:07\n",
      "   --------- ------------------------------ 11.0/44.0 MB 5.7 MB/s eta 0:00:06\n",
      "   ---------- ----------------------------- 11.2/44.0 MB 5.6 MB/s eta 0:00:06\n",
      "   ---------- ----------------------------- 11.4/44.0 MB 5.5 MB/s eta 0:00:06\n",
      "   ---------- ----------------------------- 11.7/44.0 MB 5.4 MB/s eta 0:00:07\n",
      "   ---------- ----------------------------- 11.9/44.0 MB 5.4 MB/s eta 0:00:06\n",
      "   ----------- ---------------------------- 12.2/44.0 MB 5.2 MB/s eta 0:00:07\n",
      "   ----------- ---------------------------- 12.4/44.0 MB 5.3 MB/s eta 0:00:06\n",
      "   ----------- ---------------------------- 12.6/44.0 MB 5.3 MB/s eta 0:00:06\n",
      "   ----------- ---------------------------- 12.9/44.0 MB 5.4 MB/s eta 0:00:06\n",
      "   ----------- ---------------------------- 13.1/44.0 MB 5.3 MB/s eta 0:00:06\n",
      "   ------------ --------------------------- 13.4/44.0 MB 5.3 MB/s eta 0:00:06\n",
      "   ------------ --------------------------- 13.7/44.0 MB 5.2 MB/s eta 0:00:06\n",
      "   ------------ --------------------------- 14.0/44.0 MB 5.3 MB/s eta 0:00:06\n",
      "   ------------ --------------------------- 14.3/44.0 MB 5.3 MB/s eta 0:00:06\n",
      "   ------------- -------------------------- 14.6/44.0 MB 5.3 MB/s eta 0:00:06\n",
      "   ------------- -------------------------- 14.9/44.0 MB 5.3 MB/s eta 0:00:06\n",
      "   ------------- -------------------------- 15.3/44.0 MB 5.4 MB/s eta 0:00:06\n",
      "   -------------- ------------------------- 15.6/44.0 MB 5.5 MB/s eta 0:00:06\n",
      "   -------------- ------------------------- 16.0/44.0 MB 5.5 MB/s eta 0:00:06\n",
      "   -------------- ------------------------- 16.4/44.0 MB 5.6 MB/s eta 0:00:05\n",
      "   --------------- ------------------------ 16.8/44.0 MB 5.7 MB/s eta 0:00:05\n",
      "   --------------- ------------------------ 17.2/44.0 MB 5.8 MB/s eta 0:00:05\n",
      "   ---------------- ----------------------- 17.7/44.0 MB 6.0 MB/s eta 0:00:05\n",
      "   ---------------- ----------------------- 18.1/44.0 MB 6.2 MB/s eta 0:00:05\n",
      "   ---------------- ----------------------- 18.5/44.0 MB 6.2 MB/s eta 0:00:05\n",
      "   ----------------- ---------------------- 19.1/44.0 MB 6.5 MB/s eta 0:00:04\n",
      "   ----------------- ---------------------- 19.5/44.0 MB 6.7 MB/s eta 0:00:04\n",
      "   ------------------ --------------------- 20.1/44.0 MB 7.0 MB/s eta 0:00:04\n",
      "   ------------------ --------------------- 20.6/44.0 MB 7.3 MB/s eta 0:00:04\n",
      "   ------------------- -------------------- 21.2/44.0 MB 7.6 MB/s eta 0:00:03\n",
      "   ------------------- -------------------- 21.9/44.0 MB 8.1 MB/s eta 0:00:03\n",
      "   ------------------- -------------------- 21.9/44.0 MB 8.2 MB/s eta 0:00:03\n",
      "   ------------------- -------------------- 21.9/44.0 MB 7.9 MB/s eta 0:00:03\n",
      "   ------------------- -------------------- 21.9/44.0 MB 7.5 MB/s eta 0:00:03\n",
      "   ------------------- -------------------- 21.9/44.0 MB 7.5 MB/s eta 0:00:03\n",
      "   -------------------- ------------------- 22.5/44.0 MB 7.6 MB/s eta 0:00:03\n",
      "   -------------------- ------------------- 22.8/44.0 MB 7.7 MB/s eta 0:00:03\n",
      "   -------------------- ------------------- 22.9/44.0 MB 7.4 MB/s eta 0:00:03\n",
      "   --------------------- ------------------ 23.8/44.0 MB 8.1 MB/s eta 0:00:03\n",
      "   --------------------- ------------------ 24.0/44.0 MB 8.2 MB/s eta 0:00:03\n",
      "   --------------------- ------------------ 24.0/44.0 MB 8.2 MB/s eta 0:00:03\n",
      "   ---------------------- ----------------- 24.3/44.0 MB 7.8 MB/s eta 0:00:03\n",
      "   ---------------------- ----------------- 24.7/44.0 MB 7.9 MB/s eta 0:00:03\n",
      "   ---------------------- ----------------- 24.8/44.0 MB 7.7 MB/s eta 0:00:03\n",
      "   ---------------------- ----------------- 25.2/44.0 MB 7.8 MB/s eta 0:00:03\n",
      "   ----------------------- ---------------- 25.9/44.0 MB 8.0 MB/s eta 0:00:03\n",
      "   ----------------------- ---------------- 26.2/44.0 MB 7.9 MB/s eta 0:00:03\n",
      "   ------------------------ --------------- 26.5/44.0 MB 7.8 MB/s eta 0:00:03\n",
      "   ------------------------ --------------- 26.8/44.0 MB 7.8 MB/s eta 0:00:03\n",
      "   ------------------------ --------------- 27.1/44.0 MB 7.7 MB/s eta 0:00:03\n",
      "   ------------------------ --------------- 27.3/44.0 MB 7.6 MB/s eta 0:00:03\n",
      "   ------------------------- -------------- 27.6/44.0 MB 7.5 MB/s eta 0:00:03\n",
      "   ------------------------- -------------- 27.9/44.0 MB 7.4 MB/s eta 0:00:03\n",
      "   ------------------------- -------------- 28.2/44.0 MB 7.4 MB/s eta 0:00:03\n",
      "   ------------------------- -------------- 28.5/44.0 MB 7.3 MB/s eta 0:00:03\n",
      "   -------------------------- ------------- 28.8/44.0 MB 7.2 MB/s eta 0:00:03\n",
      "   -------------------------- ------------- 29.0/44.0 MB 7.0 MB/s eta 0:00:03\n",
      "   -------------------------- ------------- 29.3/44.0 MB 7.0 MB/s eta 0:00:03\n",
      "   -------------------------- ------------- 29.6/44.0 MB 6.9 MB/s eta 0:00:03\n",
      "   --------------------------- ------------ 29.9/44.0 MB 6.7 MB/s eta 0:00:03\n",
      "   --------------------------- ------------ 30.1/44.0 MB 6.7 MB/s eta 0:00:03\n",
      "   --------------------------- ------------ 30.4/44.0 MB 6.5 MB/s eta 0:00:03\n",
      "   --------------------------- ------------ 30.7/44.0 MB 6.5 MB/s eta 0:00:03\n",
      "   ---------------------------- ----------- 31.0/44.0 MB 6.4 MB/s eta 0:00:03\n",
      "   ---------------------------- ----------- 31.3/44.0 MB 6.3 MB/s eta 0:00:03\n",
      "   ---------------------------- ----------- 31.5/44.0 MB 6.2 MB/s eta 0:00:02\n",
      "   ---------------------------- ----------- 31.8/44.0 MB 6.2 MB/s eta 0:00:02\n",
      "   ----------------------------- ---------- 32.1/44.0 MB 6.1 MB/s eta 0:00:02\n",
      "   ----------------------------- ---------- 32.4/44.0 MB 6.7 MB/s eta 0:00:02\n",
      "   ----------------------------- ---------- 32.7/44.0 MB 6.5 MB/s eta 0:00:02\n",
      "   ----------------------------- ---------- 32.9/44.0 MB 6.5 MB/s eta 0:00:02\n",
      "   ------------------------------ --------- 33.2/44.0 MB 6.6 MB/s eta 0:00:02\n",
      "   ------------------------------ --------- 33.5/44.0 MB 6.5 MB/s eta 0:00:02\n",
      "   ------------------------------ --------- 33.8/44.0 MB 6.4 MB/s eta 0:00:02\n",
      "   ------------------------------- -------- 34.1/44.0 MB 6.3 MB/s eta 0:00:02\n",
      "   ------------------------------- -------- 34.4/44.0 MB 6.5 MB/s eta 0:00:02\n",
      "   ------------------------------- -------- 34.7/44.0 MB 6.4 MB/s eta 0:00:02\n",
      "   ------------------------------- -------- 35.0/44.0 MB 6.5 MB/s eta 0:00:02\n",
      "   -------------------------------- ------- 35.2/44.0 MB 6.5 MB/s eta 0:00:02\n",
      "   -------------------------------- ------- 35.5/44.0 MB 6.4 MB/s eta 0:00:02\n",
      "   -------------------------------- ------- 35.8/44.0 MB 6.3 MB/s eta 0:00:02\n",
      "   -------------------------------- ------- 36.1/44.0 MB 6.1 MB/s eta 0:00:02\n",
      "   --------------------------------- ------ 36.4/44.0 MB 6.1 MB/s eta 0:00:02\n",
      "   --------------------------------- ------ 36.7/44.0 MB 6.2 MB/s eta 0:00:02\n",
      "   --------------------------------- ------ 37.0/44.0 MB 6.2 MB/s eta 0:00:02\n",
      "   --------------------------------- ------ 37.3/44.0 MB 6.2 MB/s eta 0:00:02\n",
      "   ---------------------------------- ----- 37.7/44.0 MB 6.2 MB/s eta 0:00:02\n",
      "   ---------------------------------- ----- 38.0/44.0 MB 6.3 MB/s eta 0:00:01\n",
      "   ---------------------------------- ----- 38.4/44.0 MB 6.3 MB/s eta 0:00:01\n",
      "   ----------------------------------- ---- 38.8/44.0 MB 6.4 MB/s eta 0:00:01\n",
      "   ----------------------------------- ---- 39.2/44.0 MB 6.5 MB/s eta 0:00:01\n",
      "   ----------------------------------- ---- 39.5/44.0 MB 6.5 MB/s eta 0:00:01\n",
      "   ------------------------------------ --- 39.6/44.0 MB 6.3 MB/s eta 0:00:01\n",
      "   ------------------------------------ --- 39.6/44.0 MB 6.3 MB/s eta 0:00:01\n",
      "   ------------------------------------ --- 39.9/44.0 MB 6.4 MB/s eta 0:00:01\n",
      "   ------------------------------------ --- 39.9/44.0 MB 6.4 MB/s eta 0:00:01\n",
      "   ------------------------------------ --- 40.4/44.0 MB 6.2 MB/s eta 0:00:01\n",
      "   ------------------------------------- -- 40.9/44.0 MB 6.3 MB/s eta 0:00:01\n",
      "   ------------------------------------- -- 41.0/44.0 MB 6.2 MB/s eta 0:00:01\n",
      "   ------------------------------------- -- 41.2/44.0 MB 6.1 MB/s eta 0:00:01\n",
      "   -------------------------------------- - 42.2/44.0 MB 6.5 MB/s eta 0:00:01\n",
      "   -------------------------------------- - 42.2/44.0 MB 6.5 MB/s eta 0:00:01\n",
      "   -------------------------------------- - 42.7/44.0 MB 6.5 MB/s eta 0:00:01\n",
      "   ---------------------------------------  42.9/44.0 MB 6.5 MB/s eta 0:00:01\n",
      "   ---------------------------------------  43.0/44.0 MB 6.4 MB/s eta 0:00:01\n",
      "   ---------------------------------------  43.0/44.0 MB 6.4 MB/s eta 0:00:01\n",
      "   ---------------------------------------  43.3/44.0 MB 6.2 MB/s eta 0:00:01\n",
      "   ---------------------------------------  43.5/44.0 MB 6.3 MB/s eta 0:00:01\n",
      "   ---------------------------------------  43.6/44.0 MB 6.2 MB/s eta 0:00:01\n",
      "   ---------------------------------------  44.0/44.0 MB 6.2 MB/s eta 0:00:01\n",
      "   ---------------------------------------  44.0/44.0 MB 6.2 MB/s eta 0:00:01\n",
      "   ---------------------------------------- 44.0/44.0 MB 5.8 MB/s eta 0:00:00\n",
      "Downloading threadpoolctl-3.2.0-py3-none-any.whl (15 kB)\n",
      "Installing collected packages: threadpoolctl, scipy, joblib, scikit-learn\n",
      "Successfully installed joblib-1.3.1 scikit-learn-1.3.0 scipy-1.11.1 threadpoolctl-3.2.0\n"
     ]
    }
   ],
   "source": [
    "!pip install scikit-learn"
   ]
  },
  {
   "cell_type": "code",
   "execution_count": 1,
   "id": "6e15d040",
   "metadata": {},
   "outputs": [],
   "source": [
    "from sklearn.metrics import accuracy_score, recall_score, precision_score, f1_score"
   ]
  },
  {
   "cell_type": "code",
   "execution_count": 3,
   "id": "e59373e4",
   "metadata": {},
   "outputs": [
    {
     "data": {
      "text/plain": [
       "0.3"
      ]
     },
     "execution_count": 3,
     "metadata": {},
     "output_type": "execute_result"
    }
   ],
   "source": [
    "accuracy_score(labels, guesses)"
   ]
  },
  {
   "cell_type": "code",
   "execution_count": 4,
   "id": "7b41451a",
   "metadata": {},
   "outputs": [
    {
     "data": {
      "text/plain": [
       "0.42857142857142855"
      ]
     },
     "execution_count": 4,
     "metadata": {},
     "output_type": "execute_result"
    }
   ],
   "source": [
    "recall_score(labels, guesses)"
   ]
  },
  {
   "cell_type": "code",
   "execution_count": 5,
   "id": "ea363eac",
   "metadata": {},
   "outputs": [
    {
     "data": {
      "text/plain": [
       "0.5"
      ]
     },
     "execution_count": 5,
     "metadata": {},
     "output_type": "execute_result"
    }
   ],
   "source": [
    "precision_score(labels, guesses)"
   ]
  },
  {
   "cell_type": "code",
   "execution_count": 6,
   "id": "6cdebc41",
   "metadata": {},
   "outputs": [
    {
     "data": {
      "text/plain": [
       "0.4615384615384615"
      ]
     },
     "execution_count": 6,
     "metadata": {},
     "output_type": "execute_result"
    }
   ],
   "source": [
    "f1_score(labels, guesses)"
   ]
  },
  {
   "cell_type": "code",
   "execution_count": null,
   "id": "b58a1b1d",
   "metadata": {},
   "outputs": [],
   "source": []
  }
 ],
 "metadata": {
  "kernelspec": {
   "display_name": "Python 3 (ipykernel)",
   "language": "python",
   "name": "python3"
  },
  "language_info": {
   "codemirror_mode": {
    "name": "ipython",
    "version": 3
   },
   "file_extension": ".py",
   "mimetype": "text/x-python",
   "name": "python",
   "nbconvert_exporter": "python",
   "pygments_lexer": "ipython3",
   "version": "3.11.4"
  }
 },
 "nbformat": 4,
 "nbformat_minor": 5
}
