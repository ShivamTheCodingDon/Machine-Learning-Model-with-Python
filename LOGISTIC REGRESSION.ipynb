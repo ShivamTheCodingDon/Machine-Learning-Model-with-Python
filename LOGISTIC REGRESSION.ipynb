{
 "cells": [
  {
   "cell_type": "markdown",
   "id": "538c328e",
   "metadata": {},
   "source": [
    "# Introduction"
   ]
  },
  {
   "cell_type": "markdown",
   "id": "35a07677",
   "metadata": {},
   "source": [
    "When an email lands in your inbox, how does your email service know whether it’s real or spam? This evaluation is made billions of times per day, and one possible method is logistic regression"
   ]
  },
  {
   "cell_type": "markdown",
   "id": "eecb1dbf",
   "metadata": {},
   "source": [
    "**Logistic regression** is a supervised machine learning algorithm that predicts the probability, ranging from 0 to 1, of a datapoint belonging to a specific category, or class. These probabilities can then be used to assign, or classify, observations to the more probable group."
   ]
  },
  {
   "cell_type": "markdown",
   "id": "ac225a3e",
   "metadata": {},
   "source": [
    "Binary classification is a type of supervised machine learning task where the goal is to categorize data into one of two classes or categories. It involves predicting whether an input belongs to either the positive class (labeled as 1) or the negative class (labeled as 0) based on the features or attributes associated with the input. In essence, it's a yes-or-no, true-or-false, or 0-or-1 decision-making process.\n",
    "\n",
    "Some other examples of problems that we could solve using logistic regression:\n",
    "\n",
    "* Disease identification — Is a tumor malignant?\n",
    "* Customer conversion — Will a customer arriving on a sign-up page enroll in a service?"
   ]
  },
  {
   "cell_type": "code",
   "execution_count": 2,
   "id": "ba6626a6",
   "metadata": {
    "collapsed": true
   },
   "outputs": [
    {
     "name": "stdout",
     "output_type": "stream",
     "text": [
      "Collecting pandas\n",
      "  Obtaining dependency information for pandas from https://files.pythonhosted.org/packages/9e/71/756a1be6bee0209d8c0d8c5e3b9fc72c00373f384a4017095ec404aec3ad/pandas-2.0.3-cp311-cp311-win_amd64.whl.metadata\n",
      "  Downloading pandas-2.0.3-cp311-cp311-win_amd64.whl.metadata (18 kB)\n",
      "Requirement already satisfied: python-dateutil>=2.8.2 in d:\\jupyter ipynb\\python\\lib\\site-packages (from pandas) (2.8.2)\n",
      "Collecting pytz>=2020.1 (from pandas)\n",
      "  Downloading pytz-2023.3-py2.py3-none-any.whl (502 kB)\n",
      "     ---------------------------------------- 0.0/502.3 kB ? eta -:--:--\n",
      "     -------- ----------------------------- 112.6/502.3 kB 2.2 MB/s eta 0:00:01\n",
      "     --------------------------- ---------- 368.6/502.3 kB 3.8 MB/s eta 0:00:01\n",
      "     -------------------------------------- 502.3/502.3 kB 4.5 MB/s eta 0:00:00\n",
      "Collecting tzdata>=2022.1 (from pandas)\n",
      "  Downloading tzdata-2023.3-py2.py3-none-any.whl (341 kB)\n",
      "     ---------------------------------------- 0.0/341.8 kB ? eta -:--:--\n",
      "     ------------------------------------- 341.8/341.8 kB 22.1 MB/s eta 0:00:00\n",
      "Requirement already satisfied: numpy>=1.21.0 in c:\\users\\aman\\appdata\\roaming\\python\\python311\\site-packages (from pandas) (1.23.4)\n",
      "Requirement already satisfied: six>=1.5 in d:\\jupyter ipynb\\python\\lib\\site-packages (from python-dateutil>=2.8.2->pandas) (1.16.0)\n",
      "Downloading pandas-2.0.3-cp311-cp311-win_amd64.whl (10.6 MB)\n",
      "   ---------------------------------------- 0.0/10.6 MB ? eta -:--:--\n",
      "   -- ------------------------------------- 0.7/10.6 MB 14.8 MB/s eta 0:00:01\n",
      "   -------- ------------------------------- 2.2/10.6 MB 23.8 MB/s eta 0:00:01\n",
      "   -------------- ------------------------- 3.8/10.6 MB 26.9 MB/s eta 0:00:01\n",
      "   ----------------------- ---------------- 6.2/10.6 MB 33.2 MB/s eta 0:00:01\n",
      "   ------------------------------- -------- 8.4/10.6 MB 38.5 MB/s eta 0:00:01\n",
      "   -------------------------------- ------- 8.6/10.6 MB 32.3 MB/s eta 0:00:01\n",
      "   --------------------------------- ------ 8.8/10.6 MB 31.2 MB/s eta 0:00:01\n",
      "   --------------------------------- ------ 8.8/10.6 MB 31.2 MB/s eta 0:00:01\n",
      "   ------------------------------------ --- 9.6/10.6 MB 23.7 MB/s eta 0:00:01\n",
      "   ------------------------------------- -- 9.8/10.6 MB 22.5 MB/s eta 0:00:01\n",
      "   ------------------------------------- -- 9.9/10.6 MB 19.3 MB/s eta 0:00:01\n",
      "   ---------------------------------------  10.4/10.6 MB 19.3 MB/s eta 0:00:01\n",
      "   ---------------------------------------  10.6/10.6 MB 17.7 MB/s eta 0:00:01\n",
      "   ---------------------------------------- 10.6/10.6 MB 16.8 MB/s eta 0:00:00\n",
      "Installing collected packages: pytz, tzdata, pandas\n",
      "Successfully installed pandas-2.0.3 pytz-2023.3 tzdata-2023.3\n"
     ]
    }
   ],
   "source": [
    "!pip install pandas"
   ]
  },
  {
   "cell_type": "code",
   "execution_count": 4,
   "id": "ffd44563",
   "metadata": {
    "collapsed": true
   },
   "outputs": [
    {
     "name": "stdout",
     "output_type": "stream",
     "text": [
      "Requirement already satisfied: matplotlib in d:\\jupyter ipynb\\python\\lib\\site-packages (3.7.2)\n",
      "Requirement already satisfied: contourpy>=1.0.1 in d:\\jupyter ipynb\\python\\lib\\site-packages (from matplotlib) (1.1.0)\n",
      "Requirement already satisfied: cycler>=0.10 in d:\\jupyter ipynb\\python\\lib\\site-packages (from matplotlib) (0.11.0)\n",
      "Requirement already satisfied: fonttools>=4.22.0 in d:\\jupyter ipynb\\python\\lib\\site-packages (from matplotlib) (4.41.0)\n",
      "Requirement already satisfied: kiwisolver>=1.0.1 in d:\\jupyter ipynb\\python\\lib\\site-packages (from matplotlib) (1.4.4)\n",
      "Requirement already satisfied: numpy>=1.20 in c:\\users\\aman\\appdata\\roaming\\python\\python311\\site-packages (from matplotlib) (1.23.4)\n",
      "Requirement already satisfied: packaging>=20.0 in d:\\jupyter ipynb\\python\\lib\\site-packages (from matplotlib) (23.1)\n",
      "Requirement already satisfied: pillow>=6.2.0 in d:\\jupyter ipynb\\python\\lib\\site-packages (from matplotlib) (10.0.0)\n",
      "Requirement already satisfied: pyparsing<3.1,>=2.3.1 in d:\\jupyter ipynb\\python\\lib\\site-packages (from matplotlib) (3.0.9)\n",
      "Requirement already satisfied: python-dateutil>=2.7 in d:\\jupyter ipynb\\python\\lib\\site-packages (from matplotlib) (2.8.2)\n",
      "Requirement already satisfied: six>=1.5 in d:\\jupyter ipynb\\python\\lib\\site-packages (from python-dateutil>=2.7->matplotlib) (1.16.0)\n"
     ]
    }
   ],
   "source": [
    "!pip install matplotlib"
   ]
  },
  {
   "cell_type": "code",
   "execution_count": 2,
   "id": "4a7316d1",
   "metadata": {},
   "outputs": [],
   "source": [
    "import pandas as pd\n",
    "import matplotlib.pyplot as plt\n",
    "import numpy as np"
   ]
  },
  {
   "cell_type": "code",
   "execution_count": 7,
   "id": "b32bfdbe",
   "metadata": {},
   "outputs": [],
   "source": [
    "exam = pd.read_csv(\"grade.csv\")"
   ]
  },
  {
   "cell_type": "code",
   "execution_count": 8,
   "id": "29b76d0e",
   "metadata": {},
   "outputs": [
    {
     "data": {
      "text/html": [
       "<div>\n",
       "<style scoped>\n",
       "    .dataframe tbody tr th:only-of-type {\n",
       "        vertical-align: middle;\n",
       "    }\n",
       "\n",
       "    .dataframe tbody tr th {\n",
       "        vertical-align: top;\n",
       "    }\n",
       "\n",
       "    .dataframe thead th {\n",
       "        text-align: right;\n",
       "    }\n",
       "</style>\n",
       "<table border=\"1\" class=\"dataframe\">\n",
       "  <thead>\n",
       "    <tr style=\"text-align: right;\">\n",
       "      <th></th>\n",
       "      <th>hours_studied</th>\n",
       "      <th>passed_exam</th>\n",
       "    </tr>\n",
       "  </thead>\n",
       "  <tbody>\n",
       "    <tr>\n",
       "      <th>0</th>\n",
       "      <td>0</td>\n",
       "      <td>0</td>\n",
       "    </tr>\n",
       "    <tr>\n",
       "      <th>1</th>\n",
       "      <td>1</td>\n",
       "      <td>0</td>\n",
       "    </tr>\n",
       "    <tr>\n",
       "      <th>2</th>\n",
       "      <td>2</td>\n",
       "      <td>0</td>\n",
       "    </tr>\n",
       "    <tr>\n",
       "      <th>3</th>\n",
       "      <td>3</td>\n",
       "      <td>0</td>\n",
       "    </tr>\n",
       "    <tr>\n",
       "      <th>4</th>\n",
       "      <td>4</td>\n",
       "      <td>0</td>\n",
       "    </tr>\n",
       "  </tbody>\n",
       "</table>\n",
       "</div>"
      ],
      "text/plain": [
       "   hours_studied  passed_exam\n",
       "0              0            0\n",
       "1              1            0\n",
       "2              2            0\n",
       "3              3            0\n",
       "4              4            0"
      ]
     },
     "execution_count": 8,
     "metadata": {},
     "output_type": "execute_result"
    }
   ],
   "source": [
    "exam.head()"
   ]
  },
  {
   "cell_type": "code",
   "execution_count": 13,
   "id": "45101377",
   "metadata": {},
   "outputs": [
    {
     "data": {
      "image/png": "[encoded data removed]",
      "text/plain": [
       "<Figure size 640x480 with 1 Axes>"
      ]
     },
     "metadata": {},
     "output_type": "display_data"
    }
   ],
   "source": [
    "# Scatter plot of exam passage vs number of hours studied\n",
    "plt.scatter(x = 'hours_studied', y = 'passed_exam', data = exam, color='black')\n",
    "plt.ylabel('passed/failed')\n",
    "plt.xlabel('hours studied')\n",
    "plt.show()"
   ]
  },
  {
   "cell_type": "markdown",
   "id": "848bb41b",
   "metadata": {},
   "source": [
    "# Linear Regression Approach"
   ]
  },
  {
   "attachments": {
    "linear_logstic_eqn.png": {
     "image/png": "[encoded data removed]"
    }
   },
   "cell_type": "markdown",
   "id": "783f46aa",
   "metadata": {},
   "source": [
    "In above data,we want to predict whether each student will pass their final exam. Recall that in linear regression, we fit a line of the following form to the data:\n",
    "\n",
    "![linear_logstic_eqn.png](attachment:linear_logstic_eqn.png)"
   ]
  },
  {
   "cell_type": "markdown",
   "id": "2e83e57e",
   "metadata": {},
   "source": [
    "In this equation:\n",
    "\n",
    "* y represents the predicted output (0 or 1) of the binary classification model.\n",
    "* b₀ represents the bias term, which is a constant added to the prediction.\n",
    "* b₁, b₂, ..., bₙ are the coefficients (weights) associated with the input features x₁, x₂, ..., xₙ, respectively."
   ]
  },
  {
   "cell_type": "code",
   "execution_count": 14,
   "id": "f674ac18",
   "metadata": {},
   "outputs": [
    {
     "data": {
      "text/html": [
       "<style>#sk-container-id-1 {color: black;}#sk-container-id-1 pre{padding: 0;}#sk-container-id-1 div.sk-toggleable {background-color: white;}#sk-container-id-1 label.sk-toggleable__label {cursor: pointer;display: block;width: 100%;margin-bottom: 0;padding: 0.3em;box-sizing: border-box;text-align: center;}#sk-container-id-1 label.sk-toggleable__label-arrow:before {content: \"▸\";float: left;margin-right: 0.25em;color: #696969;}#sk-container-id-1 label.sk-toggleable__label-arrow:hover:before {color: black;}#sk-container-id-1 div.sk-estimator:hover label.sk-toggleable__label-arrow:before {color: black;}#sk-container-id-1 div.sk-toggleable__content {max-height: 0;max-width: 0;overflow: hidden;text-align: left;background-color: #f0f8ff;}#sk-container-id-1 div.sk-toggleable__content pre {margin: 0.2em;color: black;border-radius: 0.25em;background-color: #f0f8ff;}#sk-container-id-1 input.sk-toggleable__control:checked~div.sk-toggleable__content {max-height: 200px;max-width: 100%;overflow: auto;}#sk-container-id-1 input.sk-toggleable__control:checked~label.sk-toggleable__label-arrow:before {content: \"▾\";}#sk-container-id-1 div.sk-estimator input.sk-toggleable__control:checked~label.sk-toggleable__label {background-color: #d4ebff;}#sk-container-id-1 div.sk-label input.sk-toggleable__control:checked~label.sk-toggleable__label {background-color: #d4ebff;}#sk-container-id-1 input.sk-hidden--visually {border: 0;clip: rect(1px 1px 1px 1px);clip: rect(1px, 1px, 1px, 1px);height: 1px;margin: -1px;overflow: hidden;padding: 0;position: absolute;width: 1px;}#sk-container-id-1 div.sk-estimator {font-family: monospace;background-color: #f0f8ff;border: 1px dotted black;border-radius: 0.25em;box-sizing: border-box;margin-bottom: 0.5em;}#sk-container-id-1 div.sk-estimator:hover {background-color: #d4ebff;}#sk-container-id-1 div.sk-parallel-item::after {content: \"\";width: 100%;border-bottom: 1px solid gray;flex-grow: 1;}#sk-container-id-1 div.sk-label:hover label.sk-toggleable__label {background-color: #d4ebff;}#sk-container-id-1 div.sk-serial::before {content: \"\";position: absolute;border-left: 1px solid gray;box-sizing: border-box;top: 0;bottom: 0;left: 50%;z-index: 0;}#sk-container-id-1 div.sk-serial {display: flex;flex-direction: column;align-items: center;background-color: white;padding-right: 0.2em;padding-left: 0.2em;position: relative;}#sk-container-id-1 div.sk-item {position: relative;z-index: 1;}#sk-container-id-1 div.sk-parallel {display: flex;align-items: stretch;justify-content: center;background-color: white;position: relative;}#sk-container-id-1 div.sk-item::before, #sk-container-id-1 div.sk-parallel-item::before {content: \"\";position: absolute;border-left: 1px solid gray;box-sizing: border-box;top: 0;bottom: 0;left: 50%;z-index: -1;}#sk-container-id-1 div.sk-parallel-item {display: flex;flex-direction: column;z-index: 1;position: relative;background-color: white;}#sk-container-id-1 div.sk-parallel-item:first-child::after {align-self: flex-end;width: 50%;}#sk-container-id-1 div.sk-parallel-item:last-child::after {align-self: flex-start;width: 50%;}#sk-container-id-1 div.sk-parallel-item:only-child::after {width: 0;}#sk-container-id-1 div.sk-dashed-wrapped {border: 1px dashed gray;margin: 0 0.4em 0.5em 0.4em;box-sizing: border-box;padding-bottom: 0.4em;background-color: white;}#sk-container-id-1 div.sk-label label {font-family: monospace;font-weight: bold;display: inline-block;line-height: 1.2em;}#sk-container-id-1 div.sk-label-container {text-align: center;}#sk-container-id-1 div.sk-container {/* jupyter's `normalize.less` sets `[hidden] { display: none; }` but bootstrap.min.css set `[hidden] { display: none !important; }` so we also need the `!important` here to be able to override the default hidden behavior on the sphinx rendered scikit-learn.org. See: https://github.com/scikit-learn/scikit-learn/issues/21755 */display: inline-block !important;position: relative;}#sk-container-id-1 div.sk-text-repr-fallback {display: none;}</style><div id=\"sk-container-id-1\" class=\"sk-top-container\"><div class=\"sk-text-repr-fallback\"><pre>LinearRegression()</pre><b>In a Jupyter environment, please rerun this cell to show the HTML representation or trust the notebook. <br />On GitHub, the HTML representation is unable to render, please try loading this page with nbviewer.org.</b></div><div class=\"sk-container\" hidden><div class=\"sk-item\"><div class=\"sk-estimator sk-toggleable\"><input class=\"sk-toggleable__control sk-hidden--visually\" id=\"sk-estimator-id-1\" type=\"checkbox\" checked><label for=\"sk-estimator-id-1\" class=\"sk-toggleable__label sk-toggleable__label-arrow\">LinearRegression</label><div class=\"sk-toggleable__content\"><pre>LinearRegression()</pre></div></div></div></div></div>"
      ],
      "text/plain": [
       "LinearRegression()"
      ]
     },
     "execution_count": 14,
     "metadata": {},
     "output_type": "execute_result"
    }
   ],
   "source": [
    "# Fit a linear model\n",
    "from sklearn.linear_model import LinearRegression\n",
    "model = LinearRegression()\n",
    "model.fit(exam[['hours_studied']],exam[['passed_exam']])"
   ]
  },
  {
   "cell_type": "code",
   "execution_count": 21,
   "id": "6b768c0d",
   "metadata": {
    "collapsed": true
   },
   "outputs": [
    {
     "data": {
      "text/plain": [
       "array([-16.65      , -16.48277592, -16.31555184, -16.14832776,\n",
       "       -15.98110368, -15.8138796 , -15.64665552, -15.47943144,\n",
       "       -15.31220736, -15.14498328, -14.9777592 , -14.81053512,\n",
       "       -14.64331104, -14.47608696, -14.30886288, -14.1416388 ,\n",
       "       -13.97441472, -13.80719064, -13.63996656, -13.47274247,\n",
       "       -13.30551839, -13.13829431, -12.97107023, -12.80384615,\n",
       "       -12.63662207, -12.46939799, -12.30217391, -12.13494983,\n",
       "       -11.96772575, -11.80050167, -11.63327759, -11.46605351,\n",
       "       -11.29882943, -11.13160535, -10.96438127, -10.79715719,\n",
       "       -10.62993311, -10.46270903, -10.29548495, -10.12826087,\n",
       "        -9.96103679,  -9.79381271,  -9.62658863,  -9.45936455,\n",
       "        -9.29214047,  -9.12491639,  -8.95769231,  -8.79046823,\n",
       "        -8.62324415,  -8.45602007,  -8.28879599,  -8.12157191,\n",
       "        -7.95434783,  -7.78712375,  -7.61989967,  -7.45267559,\n",
       "        -7.28545151,  -7.11822742,  -6.95100334,  -6.78377926,\n",
       "        -6.61655518,  -6.4493311 ,  -6.28210702,  -6.11488294,\n",
       "        -5.94765886,  -5.78043478,  -5.6132107 ,  -5.44598662,\n",
       "        -5.27876254,  -5.11153846,  -4.94431438,  -4.7770903 ,\n",
       "        -4.60986622,  -4.44264214,  -4.27541806,  -4.10819398,\n",
       "        -3.9409699 ,  -3.77374582,  -3.60652174,  -3.43929766,\n",
       "        -3.27207358,  -3.1048495 ,  -2.93762542,  -2.77040134,\n",
       "        -2.60317726,  -2.43595318,  -2.2687291 ,  -2.10150502,\n",
       "        -1.93428094,  -1.76705686,  -1.59983278,  -1.4326087 ,\n",
       "        -1.26538462,  -1.09816054,  -0.93093645,  -0.76371237,\n",
       "        -0.59648829,  -0.42926421,  -0.26204013,  -0.09481605,\n",
       "         0.07240803,   0.23963211,   0.40685619,   0.57408027,\n",
       "         0.74130435,   0.90852843,   1.07575251,   1.24297659,\n",
       "         1.41020067,   1.57742475,   1.74464883,   1.91187291,\n",
       "         2.07909699,   2.24632107,   2.41354515,   2.58076923,\n",
       "         2.74799331,   2.91521739,   3.08244147,   3.24966555,\n",
       "         3.41688963,   3.58411371,   3.75133779,   3.91856187,\n",
       "         4.08578595,   4.25301003,   4.42023411,   4.58745819,\n",
       "         4.75468227,   4.92190635,   5.08913043,   5.25635452,\n",
       "         5.4235786 ,   5.59080268,   5.75802676,   5.92525084,\n",
       "         6.09247492,   6.259699  ,   6.42692308,   6.59414716,\n",
       "         6.76137124,   6.92859532,   7.0958194 ,   7.26304348,\n",
       "         7.43026756,   7.59749164,   7.76471572,   7.9319398 ,\n",
       "         8.09916388,   8.26638796,   8.43361204,   8.60083612,\n",
       "         8.7680602 ,   8.93528428,   9.10250836,   9.26973244,\n",
       "         9.43695652,   9.6041806 ,   9.77140468,   9.93862876,\n",
       "        10.10585284,  10.27307692,  10.440301  ,  10.60752508,\n",
       "        10.77474916,  10.94197324,  11.10919732,  11.2764214 ,\n",
       "        11.44364548,  11.61086957,  11.77809365,  11.94531773,\n",
       "        12.11254181,  12.27976589,  12.44698997,  12.61421405,\n",
       "        12.78143813,  12.94866221,  13.11588629,  13.28311037,\n",
       "        13.45033445,  13.61755853,  13.78478261,  13.95200669,\n",
       "        14.11923077,  14.28645485,  14.45367893,  14.62090301,\n",
       "        14.78812709,  14.95535117,  15.12257525,  15.28979933,\n",
       "        15.45702341,  15.62424749,  15.79147157,  15.95869565,\n",
       "        16.12591973,  16.29314381,  16.46036789,  16.62759197,\n",
       "        16.79481605,  16.96204013,  17.12926421,  17.29648829,\n",
       "        17.46371237,  17.63093645,  17.79816054,  17.96538462,\n",
       "        18.1326087 ,  18.29983278,  18.46705686,  18.63428094,\n",
       "        18.80150502,  18.9687291 ,  19.13595318,  19.30317726,\n",
       "        19.47040134,  19.63762542,  19.8048495 ,  19.97207358,\n",
       "        20.13929766,  20.30652174,  20.47374582,  20.6409699 ,\n",
       "        20.80819398,  20.97541806,  21.14264214,  21.30986622,\n",
       "        21.4770903 ,  21.64431438,  21.81153846,  21.97876254,\n",
       "        22.14598662,  22.3132107 ,  22.48043478,  22.64765886,\n",
       "        22.81488294,  22.98210702,  23.1493311 ,  23.31655518,\n",
       "        23.48377926,  23.65100334,  23.81822742,  23.98545151,\n",
       "        24.15267559,  24.31989967,  24.48712375,  24.65434783,\n",
       "        24.82157191,  24.98879599,  25.15602007,  25.32324415,\n",
       "        25.49046823,  25.65769231,  25.82491639,  25.99214047,\n",
       "        26.15936455,  26.32658863,  26.49381271,  26.66103679,\n",
       "        26.82826087,  26.99548495,  27.16270903,  27.32993311,\n",
       "        27.49715719,  27.66438127,  27.83160535,  27.99882943,\n",
       "        28.16605351,  28.33327759,  28.50050167,  28.66772575,\n",
       "        28.83494983,  29.00217391,  29.16939799,  29.33662207,\n",
       "        29.50384615,  29.67107023,  29.83829431,  30.00551839,\n",
       "        30.17274247,  30.33996656,  30.50719064,  30.67441472,\n",
       "        30.8416388 ,  31.00886288,  31.17608696,  31.34331104,\n",
       "        31.51053512,  31.6777592 ,  31.84498328,  32.01220736,\n",
       "        32.17943144,  32.34665552,  32.5138796 ,  32.68110368,\n",
       "        32.84832776,  33.01555184,  33.18277592,  33.35      ])"
      ]
     },
     "execution_count": 21,
     "metadata": {},
     "output_type": "execute_result"
    }
   ],
   "source": [
    "# Get predictions from the linear model\n",
    "sample = np.linspace(-16.65, 33.35, 300)\n",
    "sample"
   ]
  },
  {
   "cell_type": "code",
   "execution_count": 22,
   "id": "48135d5c",
   "metadata": {},
   "outputs": [
    {
     "data": {
      "text/plain": [
       "(300,)"
      ]
     },
     "execution_count": 22,
     "metadata": {},
     "output_type": "execute_result"
    }
   ],
   "source": [
    "sample.shape"
   ]
  },
  {
   "cell_type": "code",
   "execution_count": 23,
   "id": "f1415541",
   "metadata": {
    "collapsed": true
   },
   "outputs": [
    {
     "data": {
      "text/plain": [
       "array([[-16.65      ],\n",
       "       [-16.48277592],\n",
       "       [-16.31555184],\n",
       "       [-16.14832776],\n",
       "       [-15.98110368],\n",
       "       [-15.8138796 ],\n",
       "       [-15.64665552],\n",
       "       [-15.47943144],\n",
       "       [-15.31220736],\n",
       "       [-15.14498328],\n",
       "       [-14.9777592 ],\n",
       "       [-14.81053512],\n",
       "       [-14.64331104],\n",
       "       [-14.47608696],\n",
       "       [-14.30886288],\n",
       "       [-14.1416388 ],\n",
       "       [-13.97441472],\n",
       "       [-13.80719064],\n",
       "       [-13.63996656],\n",
       "       [-13.47274247],\n",
       "       [-13.30551839],\n",
       "       [-13.13829431],\n",
       "       [-12.97107023],\n",
       "       [-12.80384615],\n",
       "       [-12.63662207],\n",
       "       [-12.46939799],\n",
       "       [-12.30217391],\n",
       "       [-12.13494983],\n",
       "       [-11.96772575],\n",
       "       [-11.80050167],\n",
       "       [-11.63327759],\n",
       "       [-11.46605351],\n",
       "       [-11.29882943],\n",
       "       [-11.13160535],\n",
       "       [-10.96438127],\n",
       "       [-10.79715719],\n",
       "       [-10.62993311],\n",
       "       [-10.46270903],\n",
       "       [-10.29548495],\n",
       "       [-10.12826087],\n",
       "       [ -9.96103679],\n",
       "       [ -9.79381271],\n",
       "       [ -9.62658863],\n",
       "       [ -9.45936455],\n",
       "       [ -9.29214047],\n",
       "       [ -9.12491639],\n",
       "       [ -8.95769231],\n",
       "       [ -8.79046823],\n",
       "       [ -8.62324415],\n",
       "       [ -8.45602007],\n",
       "       [ -8.28879599],\n",
       "       [ -8.12157191],\n",
       "       [ -7.95434783],\n",
       "       [ -7.78712375],\n",
       "       [ -7.61989967],\n",
       "       [ -7.45267559],\n",
       "       [ -7.28545151],\n",
       "       [ -7.11822742],\n",
       "       [ -6.95100334],\n",
       "       [ -6.78377926],\n",
       "       [ -6.61655518],\n",
       "       [ -6.4493311 ],\n",
       "       [ -6.28210702],\n",
       "       [ -6.11488294],\n",
       "       [ -5.94765886],\n",
       "       [ -5.78043478],\n",
       "       [ -5.6132107 ],\n",
       "       [ -5.44598662],\n",
       "       [ -5.27876254],\n",
       "       [ -5.11153846],\n",
       "       [ -4.94431438],\n",
       "       [ -4.7770903 ],\n",
       "       [ -4.60986622],\n",
       "       [ -4.44264214],\n",
       "       [ -4.27541806],\n",
       "       [ -4.10819398],\n",
       "       [ -3.9409699 ],\n",
       "       [ -3.77374582],\n",
       "       [ -3.60652174],\n",
       "       [ -3.43929766],\n",
       "       [ -3.27207358],\n",
       "       [ -3.1048495 ],\n",
       "       [ -2.93762542],\n",
       "       [ -2.77040134],\n",
       "       [ -2.60317726],\n",
       "       [ -2.43595318],\n",
       "       [ -2.2687291 ],\n",
       "       [ -2.10150502],\n",
       "       [ -1.93428094],\n",
       "       [ -1.76705686],\n",
       "       [ -1.59983278],\n",
       "       [ -1.4326087 ],\n",
       "       [ -1.26538462],\n",
       "       [ -1.09816054],\n",
       "       [ -0.93093645],\n",
       "       [ -0.76371237],\n",
       "       [ -0.59648829],\n",
       "       [ -0.42926421],\n",
       "       [ -0.26204013],\n",
       "       [ -0.09481605],\n",
       "       [  0.07240803],\n",
       "       [  0.23963211],\n",
       "       [  0.40685619],\n",
       "       [  0.57408027],\n",
       "       [  0.74130435],\n",
       "       [  0.90852843],\n",
       "       [  1.07575251],\n",
       "       [  1.24297659],\n",
       "       [  1.41020067],\n",
       "       [  1.57742475],\n",
       "       [  1.74464883],\n",
       "       [  1.91187291],\n",
       "       [  2.07909699],\n",
       "       [  2.24632107],\n",
       "       [  2.41354515],\n",
       "       [  2.58076923],\n",
       "       [  2.74799331],\n",
       "       [  2.91521739],\n",
       "       [  3.08244147],\n",
       "       [  3.24966555],\n",
       "       [  3.41688963],\n",
       "       [  3.58411371],\n",
       "       [  3.75133779],\n",
       "       [  3.91856187],\n",
       "       [  4.08578595],\n",
       "       [  4.25301003],\n",
       "       [  4.42023411],\n",
       "       [  4.58745819],\n",
       "       [  4.75468227],\n",
       "       [  4.92190635],\n",
       "       [  5.08913043],\n",
       "       [  5.25635452],\n",
       "       [  5.4235786 ],\n",
       "       [  5.59080268],\n",
       "       [  5.75802676],\n",
       "       [  5.92525084],\n",
       "       [  6.09247492],\n",
       "       [  6.259699  ],\n",
       "       [  6.42692308],\n",
       "       [  6.59414716],\n",
       "       [  6.76137124],\n",
       "       [  6.92859532],\n",
       "       [  7.0958194 ],\n",
       "       [  7.26304348],\n",
       "       [  7.43026756],\n",
       "       [  7.59749164],\n",
       "       [  7.76471572],\n",
       "       [  7.9319398 ],\n",
       "       [  8.09916388],\n",
       "       [  8.26638796],\n",
       "       [  8.43361204],\n",
       "       [  8.60083612],\n",
       "       [  8.7680602 ],\n",
       "       [  8.93528428],\n",
       "       [  9.10250836],\n",
       "       [  9.26973244],\n",
       "       [  9.43695652],\n",
       "       [  9.6041806 ],\n",
       "       [  9.77140468],\n",
       "       [  9.93862876],\n",
       "       [ 10.10585284],\n",
       "       [ 10.27307692],\n",
       "       [ 10.440301  ],\n",
       "       [ 10.60752508],\n",
       "       [ 10.77474916],\n",
       "       [ 10.94197324],\n",
       "       [ 11.10919732],\n",
       "       [ 11.2764214 ],\n",
       "       [ 11.44364548],\n",
       "       [ 11.61086957],\n",
       "       [ 11.77809365],\n",
       "       [ 11.94531773],\n",
       "       [ 12.11254181],\n",
       "       [ 12.27976589],\n",
       "       [ 12.44698997],\n",
       "       [ 12.61421405],\n",
       "       [ 12.78143813],\n",
       "       [ 12.94866221],\n",
       "       [ 13.11588629],\n",
       "       [ 13.28311037],\n",
       "       [ 13.45033445],\n",
       "       [ 13.61755853],\n",
       "       [ 13.78478261],\n",
       "       [ 13.95200669],\n",
       "       [ 14.11923077],\n",
       "       [ 14.28645485],\n",
       "       [ 14.45367893],\n",
       "       [ 14.62090301],\n",
       "       [ 14.78812709],\n",
       "       [ 14.95535117],\n",
       "       [ 15.12257525],\n",
       "       [ 15.28979933],\n",
       "       [ 15.45702341],\n",
       "       [ 15.62424749],\n",
       "       [ 15.79147157],\n",
       "       [ 15.95869565],\n",
       "       [ 16.12591973],\n",
       "       [ 16.29314381],\n",
       "       [ 16.46036789],\n",
       "       [ 16.62759197],\n",
       "       [ 16.79481605],\n",
       "       [ 16.96204013],\n",
       "       [ 17.12926421],\n",
       "       [ 17.29648829],\n",
       "       [ 17.46371237],\n",
       "       [ 17.63093645],\n",
       "       [ 17.79816054],\n",
       "       [ 17.96538462],\n",
       "       [ 18.1326087 ],\n",
       "       [ 18.29983278],\n",
       "       [ 18.46705686],\n",
       "       [ 18.63428094],\n",
       "       [ 18.80150502],\n",
       "       [ 18.9687291 ],\n",
       "       [ 19.13595318],\n",
       "       [ 19.30317726],\n",
       "       [ 19.47040134],\n",
       "       [ 19.63762542],\n",
       "       [ 19.8048495 ],\n",
       "       [ 19.97207358],\n",
       "       [ 20.13929766],\n",
       "       [ 20.30652174],\n",
       "       [ 20.47374582],\n",
       "       [ 20.6409699 ],\n",
       "       [ 20.80819398],\n",
       "       [ 20.97541806],\n",
       "       [ 21.14264214],\n",
       "       [ 21.30986622],\n",
       "       [ 21.4770903 ],\n",
       "       [ 21.64431438],\n",
       "       [ 21.81153846],\n",
       "       [ 21.97876254],\n",
       "       [ 22.14598662],\n",
       "       [ 22.3132107 ],\n",
       "       [ 22.48043478],\n",
       "       [ 22.64765886],\n",
       "       [ 22.81488294],\n",
       "       [ 22.98210702],\n",
       "       [ 23.1493311 ],\n",
       "       [ 23.31655518],\n",
       "       [ 23.48377926],\n",
       "       [ 23.65100334],\n",
       "       [ 23.81822742],\n",
       "       [ 23.98545151],\n",
       "       [ 24.15267559],\n",
       "       [ 24.31989967],\n",
       "       [ 24.48712375],\n",
       "       [ 24.65434783],\n",
       "       [ 24.82157191],\n",
       "       [ 24.98879599],\n",
       "       [ 25.15602007],\n",
       "       [ 25.32324415],\n",
       "       [ 25.49046823],\n",
       "       [ 25.65769231],\n",
       "       [ 25.82491639],\n",
       "       [ 25.99214047],\n",
       "       [ 26.15936455],\n",
       "       [ 26.32658863],\n",
       "       [ 26.49381271],\n",
       "       [ 26.66103679],\n",
       "       [ 26.82826087],\n",
       "       [ 26.99548495],\n",
       "       [ 27.16270903],\n",
       "       [ 27.32993311],\n",
       "       [ 27.49715719],\n",
       "       [ 27.66438127],\n",
       "       [ 27.83160535],\n",
       "       [ 27.99882943],\n",
       "       [ 28.16605351],\n",
       "       [ 28.33327759],\n",
       "       [ 28.50050167],\n",
       "       [ 28.66772575],\n",
       "       [ 28.83494983],\n",
       "       [ 29.00217391],\n",
       "       [ 29.16939799],\n",
       "       [ 29.33662207],\n",
       "       [ 29.50384615],\n",
       "       [ 29.67107023],\n",
       "       [ 29.83829431],\n",
       "       [ 30.00551839],\n",
       "       [ 30.17274247],\n",
       "       [ 30.33996656],\n",
       "       [ 30.50719064],\n",
       "       [ 30.67441472],\n",
       "       [ 30.8416388 ],\n",
       "       [ 31.00886288],\n",
       "       [ 31.17608696],\n",
       "       [ 31.34331104],\n",
       "       [ 31.51053512],\n",
       "       [ 31.6777592 ],\n",
       "       [ 31.84498328],\n",
       "       [ 32.01220736],\n",
       "       [ 32.17943144],\n",
       "       [ 32.34665552],\n",
       "       [ 32.5138796 ],\n",
       "       [ 32.68110368],\n",
       "       [ 32.84832776],\n",
       "       [ 33.01555184],\n",
       "       [ 33.18277592],\n",
       "       [ 33.35      ]])"
      ]
     },
     "execution_count": 23,
     "metadata": {},
     "output_type": "execute_result"
    }
   ],
   "source": [
    "sample_x = np.linspace(-16.65, 33.35, 300).reshape(-1, 1)\n",
    "sample_x"
   ]
  },
  {
   "cell_type": "code",
   "execution_count": 24,
   "id": "43c8afbd",
   "metadata": {},
   "outputs": [
    {
     "data": {
      "text/plain": [
       "(300, 1)"
      ]
     },
     "execution_count": 24,
     "metadata": {},
     "output_type": "execute_result"
    }
   ],
   "source": [
    "sample_x.shape"
   ]
  },
  {
   "cell_type": "code",
   "execution_count": 25,
   "id": "0773b00e",
   "metadata": {
    "collapsed": true
   },
   "outputs": [
    {
     "name": "stderr",
     "output_type": "stream",
     "text": [
      "D:\\Jupyter ipynb\\python\\Lib\\site-packages\\sklearn\\base.py:464: UserWarning: X does not have valid feature names, but LinearRegression was fitted with feature names\n",
      "  warnings.warn(\n"
     ]
    }
   ],
   "source": [
    "predictions = model.predict(sample_x)"
   ]
  },
  {
   "cell_type": "code",
   "execution_count": 28,
   "id": "52be5d1a",
   "metadata": {
    "collapsed": true
   },
   "outputs": [
    {
     "data": {
      "text/plain": [
       "array([[-1.33921053e+00],\n",
       "       [-1.32776888e+00],\n",
       "       [-1.31632723e+00],\n",
       "       [-1.30488558e+00],\n",
       "       [-1.29344394e+00],\n",
       "       [-1.28200229e+00],\n",
       "       [-1.27056064e+00],\n",
       "       [-1.25911899e+00],\n",
       "       [-1.24767735e+00],\n",
       "       [-1.23623570e+00],\n",
       "       [-1.22479405e+00],\n",
       "       [-1.21335240e+00],\n",
       "       [-1.20191076e+00],\n",
       "       [-1.19046911e+00],\n",
       "       [-1.17902746e+00],\n",
       "       [-1.16758581e+00],\n",
       "       [-1.15614416e+00],\n",
       "       [-1.14470252e+00],\n",
       "       [-1.13326087e+00],\n",
       "       [-1.12181922e+00],\n",
       "       [-1.11037757e+00],\n",
       "       [-1.09893593e+00],\n",
       "       [-1.08749428e+00],\n",
       "       [-1.07605263e+00],\n",
       "       [-1.06461098e+00],\n",
       "       [-1.05316934e+00],\n",
       "       [-1.04172769e+00],\n",
       "       [-1.03028604e+00],\n",
       "       [-1.01884439e+00],\n",
       "       [-1.00740275e+00],\n",
       "       [-9.95961098e-01],\n",
       "       [-9.84519451e-01],\n",
       "       [-9.73077803e-01],\n",
       "       [-9.61636156e-01],\n",
       "       [-9.50194508e-01],\n",
       "       [-9.38752860e-01],\n",
       "       [-9.27311213e-01],\n",
       "       [-9.15869565e-01],\n",
       "       [-9.04427918e-01],\n",
       "       [-8.92986270e-01],\n",
       "       [-8.81544622e-01],\n",
       "       [-8.70102975e-01],\n",
       "       [-8.58661327e-01],\n",
       "       [-8.47219680e-01],\n",
       "       [-8.35778032e-01],\n",
       "       [-8.24336384e-01],\n",
       "       [-8.12894737e-01],\n",
       "       [-8.01453089e-01],\n",
       "       [-7.90011442e-01],\n",
       "       [-7.78569794e-01],\n",
       "       [-7.67128146e-01],\n",
       "       [-7.55686499e-01],\n",
       "       [-7.44244851e-01],\n",
       "       [-7.32803204e-01],\n",
       "       [-7.21361556e-01],\n",
       "       [-7.09919908e-01],\n",
       "       [-6.98478261e-01],\n",
       "       [-6.87036613e-01],\n",
       "       [-6.75594966e-01],\n",
       "       [-6.64153318e-01],\n",
       "       [-6.52711670e-01],\n",
       "       [-6.41270023e-01],\n",
       "       [-6.29828375e-01],\n",
       "       [-6.18386728e-01],\n",
       "       [-6.06945080e-01],\n",
       "       [-5.95503432e-01],\n",
       "       [-5.84061785e-01],\n",
       "       [-5.72620137e-01],\n",
       "       [-5.61178490e-01],\n",
       "       [-5.49736842e-01],\n",
       "       [-5.38295195e-01],\n",
       "       [-5.26853547e-01],\n",
       "       [-5.15411899e-01],\n",
       "       [-5.03970252e-01],\n",
       "       [-4.92528604e-01],\n",
       "       [-4.81086957e-01],\n",
       "       [-4.69645309e-01],\n",
       "       [-4.58203661e-01],\n",
       "       [-4.46762014e-01],\n",
       "       [-4.35320366e-01],\n",
       "       [-4.23878719e-01],\n",
       "       [-4.12437071e-01],\n",
       "       [-4.00995423e-01],\n",
       "       [-3.89553776e-01],\n",
       "       [-3.78112128e-01],\n",
       "       [-3.66670481e-01],\n",
       "       [-3.55228833e-01],\n",
       "       [-3.43787185e-01],\n",
       "       [-3.32345538e-01],\n",
       "       [-3.20903890e-01],\n",
       "       [-3.09462243e-01],\n",
       "       [-2.98020595e-01],\n",
       "       [-2.86578947e-01],\n",
       "       [-2.75137300e-01],\n",
       "       [-2.63695652e-01],\n",
       "       [-2.52254005e-01],\n",
       "       [-2.40812357e-01],\n",
       "       [-2.29370709e-01],\n",
       "       [-2.17929062e-01],\n",
       "       [-2.06487414e-01],\n",
       "       [-1.95045767e-01],\n",
       "       [-1.83604119e-01],\n",
       "       [-1.72162471e-01],\n",
       "       [-1.60720824e-01],\n",
       "       [-1.49279176e-01],\n",
       "       [-1.37837529e-01],\n",
       "       [-1.26395881e-01],\n",
       "       [-1.14954233e-01],\n",
       "       [-1.03512586e-01],\n",
       "       [-9.20709382e-02],\n",
       "       [-8.06292906e-02],\n",
       "       [-6.91876430e-02],\n",
       "       [-5.77459954e-02],\n",
       "       [-4.63043478e-02],\n",
       "       [-3.48627002e-02],\n",
       "       [-2.34210526e-02],\n",
       "       [-1.19794050e-02],\n",
       "       [-5.37757437e-04],\n",
       "       [ 1.09038902e-02],\n",
       "       [ 2.23455378e-02],\n",
       "       [ 3.37871854e-02],\n",
       "       [ 4.52288330e-02],\n",
       "       [ 5.66704805e-02],\n",
       "       [ 6.81121281e-02],\n",
       "       [ 7.95537757e-02],\n",
       "       [ 9.09954233e-02],\n",
       "       [ 1.02437071e-01],\n",
       "       [ 1.13878719e-01],\n",
       "       [ 1.25320366e-01],\n",
       "       [ 1.36762014e-01],\n",
       "       [ 1.48203661e-01],\n",
       "       [ 1.59645309e-01],\n",
       "       [ 1.71086957e-01],\n",
       "       [ 1.82528604e-01],\n",
       "       [ 1.93970252e-01],\n",
       "       [ 2.05411899e-01],\n",
       "       [ 2.16853547e-01],\n",
       "       [ 2.28295195e-01],\n",
       "       [ 2.39736842e-01],\n",
       "       [ 2.51178490e-01],\n",
       "       [ 2.62620137e-01],\n",
       "       [ 2.74061785e-01],\n",
       "       [ 2.85503432e-01],\n",
       "       [ 2.96945080e-01],\n",
       "       [ 3.08386728e-01],\n",
       "       [ 3.19828375e-01],\n",
       "       [ 3.31270023e-01],\n",
       "       [ 3.42711670e-01],\n",
       "       [ 3.54153318e-01],\n",
       "       [ 3.65594966e-01],\n",
       "       [ 3.77036613e-01],\n",
       "       [ 3.88478261e-01],\n",
       "       [ 3.99919908e-01],\n",
       "       [ 4.11361556e-01],\n",
       "       [ 4.22803204e-01],\n",
       "       [ 4.34244851e-01],\n",
       "       [ 4.45686499e-01],\n",
       "       [ 4.57128146e-01],\n",
       "       [ 4.68569794e-01],\n",
       "       [ 4.80011442e-01],\n",
       "       [ 4.91453089e-01],\n",
       "       [ 5.02894737e-01],\n",
       "       [ 5.14336384e-01],\n",
       "       [ 5.25778032e-01],\n",
       "       [ 5.37219680e-01],\n",
       "       [ 5.48661327e-01],\n",
       "       [ 5.60102975e-01],\n",
       "       [ 5.71544622e-01],\n",
       "       [ 5.82986270e-01],\n",
       "       [ 5.94427918e-01],\n",
       "       [ 6.05869565e-01],\n",
       "       [ 6.17311213e-01],\n",
       "       [ 6.28752860e-01],\n",
       "       [ 6.40194508e-01],\n",
       "       [ 6.51636156e-01],\n",
       "       [ 6.63077803e-01],\n",
       "       [ 6.74519451e-01],\n",
       "       [ 6.85961098e-01],\n",
       "       [ 6.97402746e-01],\n",
       "       [ 7.08844394e-01],\n",
       "       [ 7.20286041e-01],\n",
       "       [ 7.31727689e-01],\n",
       "       [ 7.43169336e-01],\n",
       "       [ 7.54610984e-01],\n",
       "       [ 7.66052632e-01],\n",
       "       [ 7.77494279e-01],\n",
       "       [ 7.88935927e-01],\n",
       "       [ 8.00377574e-01],\n",
       "       [ 8.11819222e-01],\n",
       "       [ 8.23260870e-01],\n",
       "       [ 8.34702517e-01],\n",
       "       [ 8.46144165e-01],\n",
       "       [ 8.57585812e-01],\n",
       "       [ 8.69027460e-01],\n",
       "       [ 8.80469108e-01],\n",
       "       [ 8.91910755e-01],\n",
       "       [ 9.03352403e-01],\n",
       "       [ 9.14794050e-01],\n",
       "       [ 9.26235698e-01],\n",
       "       [ 9.37677346e-01],\n",
       "       [ 9.49118993e-01],\n",
       "       [ 9.60560641e-01],\n",
       "       [ 9.72002288e-01],\n",
       "       [ 9.83443936e-01],\n",
       "       [ 9.94885584e-01],\n",
       "       [ 1.00632723e+00],\n",
       "       [ 1.01776888e+00],\n",
       "       [ 1.02921053e+00],\n",
       "       [ 1.04065217e+00],\n",
       "       [ 1.05209382e+00],\n",
       "       [ 1.06353547e+00],\n",
       "       [ 1.07497712e+00],\n",
       "       [ 1.08641876e+00],\n",
       "       [ 1.09786041e+00],\n",
       "       [ 1.10930206e+00],\n",
       "       [ 1.12074371e+00],\n",
       "       [ 1.13218535e+00],\n",
       "       [ 1.14362700e+00],\n",
       "       [ 1.15506865e+00],\n",
       "       [ 1.16651030e+00],\n",
       "       [ 1.17795195e+00],\n",
       "       [ 1.18939359e+00],\n",
       "       [ 1.20083524e+00],\n",
       "       [ 1.21227689e+00],\n",
       "       [ 1.22371854e+00],\n",
       "       [ 1.23516018e+00],\n",
       "       [ 1.24660183e+00],\n",
       "       [ 1.25804348e+00],\n",
       "       [ 1.26948513e+00],\n",
       "       [ 1.28092677e+00],\n",
       "       [ 1.29236842e+00],\n",
       "       [ 1.30381007e+00],\n",
       "       [ 1.31525172e+00],\n",
       "       [ 1.32669336e+00],\n",
       "       [ 1.33813501e+00],\n",
       "       [ 1.34957666e+00],\n",
       "       [ 1.36101831e+00],\n",
       "       [ 1.37245995e+00],\n",
       "       [ 1.38390160e+00],\n",
       "       [ 1.39534325e+00],\n",
       "       [ 1.40678490e+00],\n",
       "       [ 1.41822654e+00],\n",
       "       [ 1.42966819e+00],\n",
       "       [ 1.44110984e+00],\n",
       "       [ 1.45255149e+00],\n",
       "       [ 1.46399314e+00],\n",
       "       [ 1.47543478e+00],\n",
       "       [ 1.48687643e+00],\n",
       "       [ 1.49831808e+00],\n",
       "       [ 1.50975973e+00],\n",
       "       [ 1.52120137e+00],\n",
       "       [ 1.53264302e+00],\n",
       "       [ 1.54408467e+00],\n",
       "       [ 1.55552632e+00],\n",
       "       [ 1.56696796e+00],\n",
       "       [ 1.57840961e+00],\n",
       "       [ 1.58985126e+00],\n",
       "       [ 1.60129291e+00],\n",
       "       [ 1.61273455e+00],\n",
       "       [ 1.62417620e+00],\n",
       "       [ 1.63561785e+00],\n",
       "       [ 1.64705950e+00],\n",
       "       [ 1.65850114e+00],\n",
       "       [ 1.66994279e+00],\n",
       "       [ 1.68138444e+00],\n",
       "       [ 1.69282609e+00],\n",
       "       [ 1.70426773e+00],\n",
       "       [ 1.71570938e+00],\n",
       "       [ 1.72715103e+00],\n",
       "       [ 1.73859268e+00],\n",
       "       [ 1.75003432e+00],\n",
       "       [ 1.76147597e+00],\n",
       "       [ 1.77291762e+00],\n",
       "       [ 1.78435927e+00],\n",
       "       [ 1.79580092e+00],\n",
       "       [ 1.80724256e+00],\n",
       "       [ 1.81868421e+00],\n",
       "       [ 1.83012586e+00],\n",
       "       [ 1.84156751e+00],\n",
       "       [ 1.85300915e+00],\n",
       "       [ 1.86445080e+00],\n",
       "       [ 1.87589245e+00],\n",
       "       [ 1.88733410e+00],\n",
       "       [ 1.89877574e+00],\n",
       "       [ 1.91021739e+00],\n",
       "       [ 1.92165904e+00],\n",
       "       [ 1.93310069e+00],\n",
       "       [ 1.94454233e+00],\n",
       "       [ 1.95598398e+00],\n",
       "       [ 1.96742563e+00],\n",
       "       [ 1.97886728e+00],\n",
       "       [ 1.99030892e+00],\n",
       "       [ 2.00175057e+00],\n",
       "       [ 2.01319222e+00],\n",
       "       [ 2.02463387e+00],\n",
       "       [ 2.03607551e+00],\n",
       "       [ 2.04751716e+00],\n",
       "       [ 2.05895881e+00],\n",
       "       [ 2.07040046e+00],\n",
       "       [ 2.08184211e+00]])"
      ]
     },
     "execution_count": 28,
     "metadata": {},
     "output_type": "execute_result"
    }
   ],
   "source": [
    "predictions"
   ]
  },
  {
   "cell_type": "code",
   "execution_count": 29,
   "id": "4908665b",
   "metadata": {
    "collapsed": true
   },
   "outputs": [
    {
     "data": {
      "text/plain": [
       "<matplotlib.collections.PathCollection at 0x1e5fdb036d0>"
      ]
     },
     "execution_count": 29,
     "metadata": {},
     "output_type": "execute_result"
    },
    {
     "data": {
      "image/png": "[encoded data removed]",
      "text/plain": [
       "<Figure size 640x480 with 1 Axes>"
      ]
     },
     "metadata": {},
     "output_type": "display_data"
    }
   ],
   "source": [
    "# Plot the data\n",
    "plt.scatter(x = 'hours_studied', y = 'passed_exam',\n",
    "            data = exam, color='black', s=100)"
   ]
  },
  {
   "cell_type": "code",
   "execution_count": 30,
   "id": "d8f61f9a",
   "metadata": {
    "collapsed": true
   },
   "outputs": [
    {
     "data": {
      "text/plain": [
       "[<matplotlib.lines.Line2D at 0x1e5988c4e90>]"
      ]
     },
     "execution_count": 30,
     "metadata": {},
     "output_type": "execute_result"
    },
    {
     "data": {
      "image/png": "[encoded data removed]",
      "text/plain": [
       "<Figure size 640x480 with 1 Axes>"
      ]
     },
     "metadata": {},
     "output_type": "display_data"
    }
   ],
   "source": [
    "# Plot the line\n",
    "plt.plot(sample_x, predictions, color='red', linewidth=3)"
   ]
  },
  {
   "cell_type": "code",
   "execution_count": 34,
   "id": "f947a57e",
   "metadata": {},
   "outputs": [
    {
     "data": {
      "text/plain": [
       "[<matplotlib.lines.Line2D at 0x1e599b8e110>]"
      ]
     },
     "execution_count": 34,
     "metadata": {},
     "output_type": "execute_result"
    },
    {
     "data": {
      "image/png": "[encoded data removed]",
      "text/plain": [
       "<Figure size 640x480 with 1 Axes>"
      ]
     },
     "metadata": {},
     "output_type": "display_data"
    }
   ],
   "source": [
    "plt.scatter(x = 'hours_studied', y = 'passed_exam',\n",
    "            data = exam, color='black', s=100)\n",
    "\n",
    "plt.plot(sample_x, predictions, color='red', linewidth=3)"
   ]
  },
  {
   "cell_type": "code",
   "execution_count": 35,
   "id": "c2825e17",
   "metadata": {},
   "outputs": [
    {
     "data": {
      "text/plain": [
       "<matplotlib.lines.Line2D at 0x1e59a1d0ad0>"
      ]
     },
     "execution_count": 35,
     "metadata": {},
     "output_type": "execute_result"
    },
    {
     "data": {
      "image/png": "[encoded data removed]",
      "text/plain": [
       "<Figure size 640x480 with 1 Axes>"
      ]
     },
     "metadata": {},
     "output_type": "display_data"
    }
   ],
   "source": [
    "plt.scatter(x = 'hours_studied', y = 'passed_exam',\n",
    "            data = exam, color='black', s=100)\n",
    "\n",
    "plt.plot(sample_x, predictions, color='red', linewidth=3)\n",
    "\n",
    "# Customization for readability\n",
    "plt.xticks(fontsize = 20)\n",
    "plt.yticks(fontsize = 20)\n",
    "plt.axhline(y=0, color='k', linestyle='--')\n",
    "plt.axhline(y=1, color='k', linestyle='--')"
   ]
  },
  {
   "cell_type": "code",
   "execution_count": 38,
   "id": "a2303250",
   "metadata": {},
   "outputs": [
    {
     "data": {
      "image/png": "[encoded data removed]",
      "text/plain": [
       "<Figure size 640x480 with 1 Axes>"
      ]
     },
     "metadata": {},
     "output_type": "display_data"
    }
   ],
   "source": [
    "plt.scatter(x = 'hours_studied', y = 'passed_exam',\n",
    "            data = exam, color='black', s=100)\n",
    "\n",
    "plt.plot(sample_x, predictions, color='red', linewidth=3)\n",
    "\n",
    "# Customization for readability\n",
    "plt.xticks(fontsize = 20)\n",
    "plt.yticks(fontsize = 20)\n",
    "plt.axhline(y=0, color='k', linestyle='--')\n",
    "plt.axhline(y=1, color='k', linestyle='--')\n",
    "\n",
    "# Label plot and set limits\n",
    "plt.ylabel('outcome (1=passed, 0=failed)', fontsize = 15)\n",
    "plt.xlabel('hours studied', fontsize = 15)\n",
    "plt.xlim(-16.65, 33.35)\n",
    "plt.ylim(-.3, 1.8)\n",
    "\n",
    "# Show the plot\n",
    "plt.tight_layout()\n",
    "plt.show()"
   ]
  },
  {
   "cell_type": "markdown",
   "id": "70bdab58",
   "metadata": {},
   "source": [
    "# Logistic Regression"
   ]
  },
  {
   "cell_type": "markdown",
   "id": "81056cb4",
   "metadata": {},
   "source": [
    "The logit link function is a mathematical function used in binary logistic regression, a popular method for binary classification tasks. It is used to model the relationship between the predictors (input features) and the probability of the binary outcome (usually denoted as \"p\") being in the positive class (labeled as 1).\n",
    "\n",
    "In logistic regression, the goal is to predict the probability of the positive class (p) given the input features. The logit link function transforms the linear combination of the input features and their corresponding coefficients (weights) into the log-odds (logit) of the positive class probability.\n",
    "\n",
    "The logit link function is defined as follows:\n",
    "\n",
    "logit(p) = ln(p / (1 - p))\n",
    "\n",
    "Where:\n",
    "\n",
    "* logit(p) is the log-odds of the probability p.\n",
    "* ln represents the natural logarithm.\n",
    "* p is the probability of the positive class (ranging from 0 to 1)."
   ]
  },
  {
   "attachments": {
    "inverse_logistic_fun.png": {
     "image/png": "[encoded data removed]"
    }
   },
   "cell_type": "markdown",
   "id": "7ecaf498",
   "metadata": {},
   "source": [
    "In logistic regression, the logit link function helps in maintaining the relationship between the linear predictor (b₀ + b₁x₁ + b₂x₂ + ... + bₙxₙ) and the probability p. The logit function maps the probability (p) to a continuous range, enabling the use of linear regression techniques to model the relationship between the predictors and the log-odds of the probability.\n",
    "\n",
    "To get the final probability prediction (p) from the logit link function, the inverse of the logit function (logistic function) is used:\n",
    "\n",
    "![inverse_logistic_fun.png](attachment:inverse_logistic_fun.png)"
   ]
  },
  {
   "cell_type": "markdown",
   "id": "f3170bd1",
   "metadata": {},
   "source": [
    "Where e represents Euler's number, approximately equal to 2.71828."
   ]
  },
  {
   "cell_type": "code",
   "execution_count": 39,
   "id": "364b914e",
   "metadata": {},
   "outputs": [],
   "source": [
    "from sklearn.linear_model import LogisticRegression"
   ]
  },
  {
   "cell_type": "code",
   "execution_count": 41,
   "id": "d7a6e782",
   "metadata": {
    "collapsed": true
   },
   "outputs": [
    {
     "data": {
      "text/html": [
       "<div>\n",
       "<style scoped>\n",
       "    .dataframe tbody tr th:only-of-type {\n",
       "        vertical-align: middle;\n",
       "    }\n",
       "\n",
       "    .dataframe tbody tr th {\n",
       "        vertical-align: top;\n",
       "    }\n",
       "\n",
       "    .dataframe thead th {\n",
       "        text-align: right;\n",
       "    }\n",
       "</style>\n",
       "<table border=\"1\" class=\"dataframe\">\n",
       "  <thead>\n",
       "    <tr style=\"text-align: right;\">\n",
       "      <th></th>\n",
       "      <th>hours_studied</th>\n",
       "    </tr>\n",
       "  </thead>\n",
       "  <tbody>\n",
       "    <tr>\n",
       "      <th>0</th>\n",
       "      <td>0</td>\n",
       "    </tr>\n",
       "    <tr>\n",
       "      <th>1</th>\n",
       "      <td>1</td>\n",
       "    </tr>\n",
       "    <tr>\n",
       "      <th>2</th>\n",
       "      <td>2</td>\n",
       "    </tr>\n",
       "    <tr>\n",
       "      <th>3</th>\n",
       "      <td>3</td>\n",
       "    </tr>\n",
       "    <tr>\n",
       "      <th>4</th>\n",
       "      <td>4</td>\n",
       "    </tr>\n",
       "    <tr>\n",
       "      <th>5</th>\n",
       "      <td>5</td>\n",
       "    </tr>\n",
       "    <tr>\n",
       "      <th>6</th>\n",
       "      <td>6</td>\n",
       "    </tr>\n",
       "    <tr>\n",
       "      <th>7</th>\n",
       "      <td>7</td>\n",
       "    </tr>\n",
       "    <tr>\n",
       "      <th>8</th>\n",
       "      <td>8</td>\n",
       "    </tr>\n",
       "    <tr>\n",
       "      <th>9</th>\n",
       "      <td>9</td>\n",
       "    </tr>\n",
       "    <tr>\n",
       "      <th>10</th>\n",
       "      <td>10</td>\n",
       "    </tr>\n",
       "    <tr>\n",
       "      <th>11</th>\n",
       "      <td>11</td>\n",
       "    </tr>\n",
       "    <tr>\n",
       "      <th>12</th>\n",
       "      <td>12</td>\n",
       "    </tr>\n",
       "    <tr>\n",
       "      <th>13</th>\n",
       "      <td>13</td>\n",
       "    </tr>\n",
       "    <tr>\n",
       "      <th>14</th>\n",
       "      <td>14</td>\n",
       "    </tr>\n",
       "    <tr>\n",
       "      <th>15</th>\n",
       "      <td>15</td>\n",
       "    </tr>\n",
       "    <tr>\n",
       "      <th>16</th>\n",
       "      <td>16</td>\n",
       "    </tr>\n",
       "    <tr>\n",
       "      <th>17</th>\n",
       "      <td>17</td>\n",
       "    </tr>\n",
       "    <tr>\n",
       "      <th>18</th>\n",
       "      <td>18</td>\n",
       "    </tr>\n",
       "    <tr>\n",
       "      <th>19</th>\n",
       "      <td>19</td>\n",
       "    </tr>\n",
       "  </tbody>\n",
       "</table>\n",
       "</div>"
      ],
      "text/plain": [
       "    hours_studied\n",
       "0               0\n",
       "1               1\n",
       "2               2\n",
       "3               3\n",
       "4               4\n",
       "5               5\n",
       "6               6\n",
       "7               7\n",
       "8               8\n",
       "9               9\n",
       "10             10\n",
       "11             11\n",
       "12             12\n",
       "13             13\n",
       "14             14\n",
       "15             15\n",
       "16             16\n",
       "17             17\n",
       "18             18\n",
       "19             19"
      ]
     },
     "execution_count": 41,
     "metadata": {},
     "output_type": "execute_result"
    }
   ],
   "source": [
    "hours_studied = exam[['hours_studied']]\n",
    "hours_studied"
   ]
  },
  {
   "cell_type": "code",
   "execution_count": 42,
   "id": "6f8ee223",
   "metadata": {
    "collapsed": true
   },
   "outputs": [
    {
     "data": {
      "text/html": [
       "<div>\n",
       "<style scoped>\n",
       "    .dataframe tbody tr th:only-of-type {\n",
       "        vertical-align: middle;\n",
       "    }\n",
       "\n",
       "    .dataframe tbody tr th {\n",
       "        vertical-align: top;\n",
       "    }\n",
       "\n",
       "    .dataframe thead th {\n",
       "        text-align: right;\n",
       "    }\n",
       "</style>\n",
       "<table border=\"1\" class=\"dataframe\">\n",
       "  <thead>\n",
       "    <tr style=\"text-align: right;\">\n",
       "      <th></th>\n",
       "      <th>passed_exam</th>\n",
       "    </tr>\n",
       "  </thead>\n",
       "  <tbody>\n",
       "    <tr>\n",
       "      <th>0</th>\n",
       "      <td>0</td>\n",
       "    </tr>\n",
       "    <tr>\n",
       "      <th>1</th>\n",
       "      <td>0</td>\n",
       "    </tr>\n",
       "    <tr>\n",
       "      <th>2</th>\n",
       "      <td>0</td>\n",
       "    </tr>\n",
       "    <tr>\n",
       "      <th>3</th>\n",
       "      <td>0</td>\n",
       "    </tr>\n",
       "    <tr>\n",
       "      <th>4</th>\n",
       "      <td>0</td>\n",
       "    </tr>\n",
       "    <tr>\n",
       "      <th>5</th>\n",
       "      <td>0</td>\n",
       "    </tr>\n",
       "    <tr>\n",
       "      <th>6</th>\n",
       "      <td>0</td>\n",
       "    </tr>\n",
       "    <tr>\n",
       "      <th>7</th>\n",
       "      <td>0</td>\n",
       "    </tr>\n",
       "    <tr>\n",
       "      <th>8</th>\n",
       "      <td>0</td>\n",
       "    </tr>\n",
       "    <tr>\n",
       "      <th>9</th>\n",
       "      <td>1</td>\n",
       "    </tr>\n",
       "    <tr>\n",
       "      <th>10</th>\n",
       "      <td>1</td>\n",
       "    </tr>\n",
       "    <tr>\n",
       "      <th>11</th>\n",
       "      <td>0</td>\n",
       "    </tr>\n",
       "    <tr>\n",
       "      <th>12</th>\n",
       "      <td>0</td>\n",
       "    </tr>\n",
       "    <tr>\n",
       "      <th>13</th>\n",
       "      <td>1</td>\n",
       "    </tr>\n",
       "    <tr>\n",
       "      <th>14</th>\n",
       "      <td>1</td>\n",
       "    </tr>\n",
       "    <tr>\n",
       "      <th>15</th>\n",
       "      <td>1</td>\n",
       "    </tr>\n",
       "    <tr>\n",
       "      <th>16</th>\n",
       "      <td>1</td>\n",
       "    </tr>\n",
       "    <tr>\n",
       "      <th>17</th>\n",
       "      <td>1</td>\n",
       "    </tr>\n",
       "    <tr>\n",
       "      <th>18</th>\n",
       "      <td>1</td>\n",
       "    </tr>\n",
       "    <tr>\n",
       "      <th>19</th>\n",
       "      <td>1</td>\n",
       "    </tr>\n",
       "  </tbody>\n",
       "</table>\n",
       "</div>"
      ],
      "text/plain": [
       "    passed_exam\n",
       "0             0\n",
       "1             0\n",
       "2             0\n",
       "3             0\n",
       "4             0\n",
       "5             0\n",
       "6             0\n",
       "7             0\n",
       "8             0\n",
       "9             1\n",
       "10            1\n",
       "11            0\n",
       "12            0\n",
       "13            1\n",
       "14            1\n",
       "15            1\n",
       "16            1\n",
       "17            1\n",
       "18            1\n",
       "19            1"
      ]
     },
     "execution_count": 42,
     "metadata": {},
     "output_type": "execute_result"
    }
   ],
   "source": [
    "passed_exam = exam[['passed_exam']]\n",
    "passed_exam"
   ]
  },
  {
   "cell_type": "code",
   "execution_count": 43,
   "id": "8ac901c0",
   "metadata": {},
   "outputs": [
    {
     "name": "stderr",
     "output_type": "stream",
     "text": [
      "D:\\Jupyter ipynb\\python\\Lib\\site-packages\\sklearn\\utils\\validation.py:1184: DataConversionWarning: A column-vector y was passed when a 1d array was expected. Please change the shape of y to (n_samples, ), for example using ravel().\n",
      "  y = column_or_1d(y, warn=True)\n"
     ]
    },
    {
     "data": {
      "text/html": [
       "<style>#sk-container-id-2 {color: black;}#sk-container-id-2 pre{padding: 0;}#sk-container-id-2 div.sk-toggleable {background-color: white;}#sk-container-id-2 label.sk-toggleable__label {cursor: pointer;display: block;width: 100%;margin-bottom: 0;padding: 0.3em;box-sizing: border-box;text-align: center;}#sk-container-id-2 label.sk-toggleable__label-arrow:before {content: \"▸\";float: left;margin-right: 0.25em;color: #696969;}#sk-container-id-2 label.sk-toggleable__label-arrow:hover:before {color: black;}#sk-container-id-2 div.sk-estimator:hover label.sk-toggleable__label-arrow:before {color: black;}#sk-container-id-2 div.sk-toggleable__content {max-height: 0;max-width: 0;overflow: hidden;text-align: left;background-color: #f0f8ff;}#sk-container-id-2 div.sk-toggleable__content pre {margin: 0.2em;color: black;border-radius: 0.25em;background-color: #f0f8ff;}#sk-container-id-2 input.sk-toggleable__control:checked~div.sk-toggleable__content {max-height: 200px;max-width: 100%;overflow: auto;}#sk-container-id-2 input.sk-toggleable__control:checked~label.sk-toggleable__label-arrow:before {content: \"▾\";}#sk-container-id-2 div.sk-estimator input.sk-toggleable__control:checked~label.sk-toggleable__label {background-color: #d4ebff;}#sk-container-id-2 div.sk-label input.sk-toggleable__control:checked~label.sk-toggleable__label {background-color: #d4ebff;}#sk-container-id-2 input.sk-hidden--visually {border: 0;clip: rect(1px 1px 1px 1px);clip: rect(1px, 1px, 1px, 1px);height: 1px;margin: -1px;overflow: hidden;padding: 0;position: absolute;width: 1px;}#sk-container-id-2 div.sk-estimator {font-family: monospace;background-color: #f0f8ff;border: 1px dotted black;border-radius: 0.25em;box-sizing: border-box;margin-bottom: 0.5em;}#sk-container-id-2 div.sk-estimator:hover {background-color: #d4ebff;}#sk-container-id-2 div.sk-parallel-item::after {content: \"\";width: 100%;border-bottom: 1px solid gray;flex-grow: 1;}#sk-container-id-2 div.sk-label:hover label.sk-toggleable__label {background-color: #d4ebff;}#sk-container-id-2 div.sk-serial::before {content: \"\";position: absolute;border-left: 1px solid gray;box-sizing: border-box;top: 0;bottom: 0;left: 50%;z-index: 0;}#sk-container-id-2 div.sk-serial {display: flex;flex-direction: column;align-items: center;background-color: white;padding-right: 0.2em;padding-left: 0.2em;position: relative;}#sk-container-id-2 div.sk-item {position: relative;z-index: 1;}#sk-container-id-2 div.sk-parallel {display: flex;align-items: stretch;justify-content: center;background-color: white;position: relative;}#sk-container-id-2 div.sk-item::before, #sk-container-id-2 div.sk-parallel-item::before {content: \"\";position: absolute;border-left: 1px solid gray;box-sizing: border-box;top: 0;bottom: 0;left: 50%;z-index: -1;}#sk-container-id-2 div.sk-parallel-item {display: flex;flex-direction: column;z-index: 1;position: relative;background-color: white;}#sk-container-id-2 div.sk-parallel-item:first-child::after {align-self: flex-end;width: 50%;}#sk-container-id-2 div.sk-parallel-item:last-child::after {align-self: flex-start;width: 50%;}#sk-container-id-2 div.sk-parallel-item:only-child::after {width: 0;}#sk-container-id-2 div.sk-dashed-wrapped {border: 1px dashed gray;margin: 0 0.4em 0.5em 0.4em;box-sizing: border-box;padding-bottom: 0.4em;background-color: white;}#sk-container-id-2 div.sk-label label {font-family: monospace;font-weight: bold;display: inline-block;line-height: 1.2em;}#sk-container-id-2 div.sk-label-container {text-align: center;}#sk-container-id-2 div.sk-container {/* jupyter's `normalize.less` sets `[hidden] { display: none; }` but bootstrap.min.css set `[hidden] { display: none !important; }` so we also need the `!important` here to be able to override the default hidden behavior on the sphinx rendered scikit-learn.org. See: https://github.com/scikit-learn/scikit-learn/issues/21755 */display: inline-block !important;position: relative;}#sk-container-id-2 div.sk-text-repr-fallback {display: none;}</style><div id=\"sk-container-id-2\" class=\"sk-top-container\"><div class=\"sk-text-repr-fallback\"><pre>LogisticRegression()</pre><b>In a Jupyter environment, please rerun this cell to show the HTML representation or trust the notebook. <br />On GitHub, the HTML representation is unable to render, please try loading this page with nbviewer.org.</b></div><div class=\"sk-container\" hidden><div class=\"sk-item\"><div class=\"sk-estimator sk-toggleable\"><input class=\"sk-toggleable__control sk-hidden--visually\" id=\"sk-estimator-id-2\" type=\"checkbox\" checked><label for=\"sk-estimator-id-2\" class=\"sk-toggleable__label sk-toggleable__label-arrow\">LogisticRegression</label><div class=\"sk-toggleable__content\"><pre>LogisticRegression()</pre></div></div></div></div></div>"
      ],
      "text/plain": [
       "LogisticRegression()"
      ]
     },
     "execution_count": 43,
     "metadata": {},
     "output_type": "execute_result"
    }
   ],
   "source": [
    "# Fit the logistic regression model\n",
    "model = LogisticRegression()\n",
    "model.fit(hours_studied,passed_exam)"
   ]
  },
  {
   "cell_type": "code",
   "execution_count": 44,
   "id": "c75fc467",
   "metadata": {},
   "outputs": [
    {
     "name": "stderr",
     "output_type": "stream",
     "text": [
      "D:\\Jupyter ipynb\\python\\Lib\\site-packages\\sklearn\\base.py:464: UserWarning: X does not have valid feature names, but LogisticRegression was fitted with feature names\n",
      "  warnings.warn(\n"
     ]
    }
   ],
   "source": [
    "# Plug sample data into fitted model\n",
    "sample_x = np.linspace(-16.65, 33.35, 300).reshape(-1,1)\n",
    "probability = model.predict_proba(sample_x)[:,1]"
   ]
  },
  {
   "cell_type": "code",
   "execution_count": 47,
   "id": "6482fe09",
   "metadata": {
    "collapsed": true
   },
   "outputs": [
    {
     "data": {
      "text/plain": [
       "array([9.97147549e-08, 1.10121741e-07, 1.21614879e-07, 1.34307528e-07,\n",
       "       1.48324878e-07, 1.63805183e-07, 1.80901131e-07, 1.99781340e-07,\n",
       "       2.20632030e-07, 2.43658855e-07, 2.69088933e-07, 2.97173085e-07,\n",
       "       3.28188310e-07, 3.62440517e-07, 4.00267541e-07, 4.42042476e-07,\n",
       "       4.88177357e-07, 5.39127218e-07, 5.95394587e-07, 6.57534437e-07,\n",
       "       7.26159664e-07, 8.01947129e-07, 8.85644335e-07, 9.78076800e-07,\n",
       "       1.08015620e-06, 1.19288935e-06, 1.31738816e-06, 1.45488057e-06,\n",
       "       1.60672269e-06, 1.77441215e-06, 1.95960288e-06, 2.16412145e-06,\n",
       "       2.38998502e-06, 2.63942132e-06, 2.91489052e-06, 3.21910961e-06,\n",
       "       3.55507909e-06, 3.92611263e-06, 4.33586972e-06, 4.78839178e-06,\n",
       "       5.28814199e-06, 5.84004934e-06, 6.44955722e-06, 7.12267710e-06,\n",
       "       7.86604781e-06, 8.68700104e-06, 9.59363361e-06, 1.05948873e-05,\n",
       "       1.17006371e-05, 1.29217885e-05, 1.42703850e-05, 1.57597271e-05,\n",
       "       1.74045030e-05, 1.92209339e-05, 2.12269337e-05, 2.34422854e-05,\n",
       "       2.58888366e-05, 2.85907146e-05, 3.15745640e-05, 3.48698099e-05,\n",
       "       3.85089474e-05, 4.25278620e-05, 4.69661836e-05, 5.18676762e-05,\n",
       "       5.72806699e-05, 6.32585365e-05, 6.98602155e-05, 7.71507946e-05,\n",
       "       8.52021501e-05, 9.40936555e-05, 1.03912962e-04, 1.14756862e-04,\n",
       "       1.26732240e-04, 1.39957125e-04, 1.54561854e-04, 1.70690347e-04,\n",
       "       1.88501527e-04, 2.08170880e-04, 2.29892176e-04, 2.53879374e-04,\n",
       "       2.80368721e-04, 3.09621065e-04, 3.41924417e-04, 3.77596765e-04,\n",
       "       4.16989192e-04, 4.60489304e-04, 5.08525018e-04, 5.61568738e-04,\n",
       "       6.20141962e-04, 6.84820353e-04, 7.56239344e-04, 8.35100302e-04,\n",
       "       9.22177324e-04, 1.01832473e-03, 1.12448530e-03, 1.24169939e-03,\n",
       "       1.37111486e-03, 1.51399814e-03, 1.67174631e-03, 1.84590036e-03,\n",
       "       2.03815985e-03, 2.25039896e-03, 2.48468407e-03, 2.74329314e-03,\n",
       "       3.02873684e-03, 3.34378180e-03, 3.69147595e-03, 4.07517631e-03,\n",
       "       4.49857927e-03, 4.96575365e-03, 5.48117664e-03, 6.04977296e-03,\n",
       "       6.67695728e-03, 7.36868022e-03, 8.13147801e-03, 8.97252603e-03,\n",
       "       9.89969637e-03, 1.09216194e-02, 1.20477496e-02, 1.32884352e-02,\n",
       "       1.46549923e-02, 1.61597819e-02, 1.78162910e-02, 1.96392161e-02,\n",
       "       2.16445488e-02, 2.38496618e-02, 2.62733953e-02, 2.89361405e-02,\n",
       "       3.18599186e-02, 3.50684535e-02, 3.85872335e-02, 4.24435585e-02,\n",
       "       4.66665696e-02, 5.12872531e-02, 5.63384154e-02, 6.18546201e-02,\n",
       "       6.78720809e-02, 7.44285006e-02, 8.15628491e-02, 8.93150701e-02,\n",
       "       9.77257080e-02, 1.06835446e-01, 1.16684552e-01, 1.27312218e-01,\n",
       "       1.38755800e-01, 1.51049961e-01, 1.64225707e-01, 1.78309353e-01,\n",
       "       1.93321412e-01, 2.09275456e-01, 2.26176968e-01, 2.44022233e-01,\n",
       "       2.62797318e-01, 2.82477189e-01, 3.03025029e-01, 3.24391806e-01,\n",
       "       3.46516147e-01, 3.69324557e-01, 3.92732011e-01, 4.16642936e-01,\n",
       "       4.40952562e-01, 4.65548630e-01, 4.90313377e-01, 5.15125759e-01,\n",
       "       5.39863798e-01, 5.64406973e-01, 5.88638544e-01, 6.12447732e-01,\n",
       "       6.35731651e-01, 6.58396937e-01, 6.80361023e-01, 7.01553035e-01,\n",
       "       7.21914301e-01, 7.41398489e-01, 7.59971413e-01, 7.77610539e-01,\n",
       "       7.94304256e-01, 8.10050958e-01, 8.24857998e-01, 8.38740569e-01,\n",
       "       8.51720555e-01, 8.63825390e-01, 8.75086970e-01, 8.85540626e-01,\n",
       "       8.95224188e-01, 9.04177145e-01, 9.12439909e-01, 9.20053176e-01,\n",
       "       9.27057397e-01, 9.33492329e-01, 9.39396687e-01, 9.44807865e-01,\n",
       "       9.49761726e-01, 9.54292456e-01, 9.58432466e-01, 9.62212338e-01,\n",
       "       9.65660809e-01, 9.68804779e-01, 9.71669343e-01, 9.74277846e-01,\n",
       "       9.76651947e-01, 9.78811688e-01, 9.80775582e-01, 9.82560690e-01,\n",
       "       9.84182713e-01, 9.85656075e-01, 9.86994008e-01, 9.88208638e-01,\n",
       "       9.89311063e-01, 9.90311427e-01, 9.91219000e-01, 9.92042239e-01,\n",
       "       9.92788859e-01, 9.93465891e-01, 9.94079737e-01, 9.94636227e-01,\n",
       "       9.95140664e-01, 9.95597871e-01, 9.96012232e-01, 9.96387732e-01,\n",
       "       9.96727991e-01, 9.97036293e-01, 9.97315625e-01, 9.97568693e-01,\n",
       "       9.97797956e-01, 9.98005644e-01, 9.98193779e-01, 9.98364196e-01,\n",
       "       9.98518557e-01, 9.98658372e-01, 9.98785008e-01, 9.98899704e-01,\n",
       "       9.99003583e-01, 9.99097664e-01, 9.99182869e-01, 9.99260034e-01,\n",
       "       9.99329917e-01, 9.99393205e-01, 9.99450518e-01, 9.99502421e-01,\n",
       "       9.99549423e-01, 9.99591987e-01, 9.99630532e-01, 9.99665436e-01,\n",
       "       9.99697045e-01, 9.99725667e-01, 9.99751587e-01, 9.99775057e-01,\n",
       "       9.99796311e-01, 9.99815557e-01, 9.99832985e-01, 9.99848766e-01,\n",
       "       9.99863056e-01, 9.99875997e-01, 9.99887714e-01, 9.99898325e-01,\n",
       "       9.99907932e-01, 9.99916633e-01, 9.99924511e-01, 9.99931644e-01,\n",
       "       9.99938104e-01, 9.99943953e-01, 9.99949249e-01, 9.99954045e-01,\n",
       "       9.99958388e-01, 9.99962320e-01, 9.99965881e-01, 9.99969105e-01,\n",
       "       9.99972025e-01, 9.99974669e-01, 9.99977063e-01, 9.99979230e-01,\n",
       "       9.99981193e-01, 9.99982970e-01, 9.99984580e-01, 9.99986037e-01,\n",
       "       9.99987356e-01, 9.99988551e-01, 9.99989633e-01, 9.99990613e-01,\n",
       "       9.99991500e-01, 9.99992303e-01, 9.99993031e-01, 9.99993689e-01,\n",
       "       9.99994286e-01, 9.99994826e-01, 9.99995315e-01, 9.99995758e-01,\n",
       "       9.99996158e-01, 9.99996521e-01, 9.99996850e-01, 9.99997148e-01,\n",
       "       9.99997417e-01, 9.99997661e-01, 9.99997882e-01, 9.99998083e-01,\n",
       "       9.99998264e-01, 9.99998428e-01, 9.99998576e-01, 9.99998711e-01])"
      ]
     },
     "execution_count": 47,
     "metadata": {},
     "output_type": "execute_result"
    }
   ],
   "source": [
    "probability"
   ]
  },
  {
   "cell_type": "code",
   "execution_count": 46,
   "id": "c8f66e23",
   "metadata": {},
   "outputs": [
    {
     "data": {
      "text/plain": [
       "(300,)"
      ]
     },
     "execution_count": 46,
     "metadata": {},
     "output_type": "execute_result"
    }
   ],
   "source": [
    "probability.shape"
   ]
  },
  {
   "cell_type": "code",
   "execution_count": 48,
   "id": "53fd619f",
   "metadata": {},
   "outputs": [
    {
     "data": {
      "text/plain": [
       "<matplotlib.collections.PathCollection at 0x1e599d0f350>"
      ]
     },
     "execution_count": 48,
     "metadata": {},
     "output_type": "execute_result"
    },
    {
     "data": {
      "image/png": "[encoded data removed]",
      "text/plain": [
       "<Figure size 640x480 with 1 Axes>"
      ]
     },
     "metadata": {},
     "output_type": "display_data"
    }
   ],
   "source": [
    "# Plot exam data\n",
    "plt.scatter(hours_studied, passed_exam, color='black', s=100)"
   ]
  },
  {
   "cell_type": "code",
   "execution_count": 49,
   "id": "48f440e5",
   "metadata": {},
   "outputs": [
    {
     "data": {
      "text/plain": [
       "[<matplotlib.lines.Line2D at 0x1e599904e90>]"
      ]
     },
     "execution_count": 49,
     "metadata": {},
     "output_type": "execute_result"
    },
    {
     "data": {
      "image/png": "[encoded data removed]",
      "text/plain": [
       "<Figure size 640x480 with 1 Axes>"
      ]
     },
     "metadata": {},
     "output_type": "display_data"
    }
   ],
   "source": [
    "# Plot logistic curve\n",
    "plt.plot(sample_x, probability, color='red', linewidth=3)"
   ]
  },
  {
   "cell_type": "code",
   "execution_count": 50,
   "id": "8e546cfb",
   "metadata": {},
   "outputs": [
    {
     "data": {
      "text/plain": [
       "[<matplotlib.lines.Line2D at 0x1e599aeca50>]"
      ]
     },
     "execution_count": 50,
     "metadata": {},
     "output_type": "execute_result"
    },
    {
     "data": {
      "image/png": "[encoded data removed]",
      "text/plain": [
       "<Figure size 640x480 with 1 Axes>"
      ]
     },
     "metadata": {},
     "output_type": "display_data"
    }
   ],
   "source": [
    "# Plot exam data\n",
    "plt.scatter(hours_studied, passed_exam, color='black', s=100)\n",
    "\n",
    "# Plot logistic curve\n",
    "plt.plot(sample_x, probability, color='red', linewidth=3)"
   ]
  },
  {
   "cell_type": "code",
   "execution_count": 52,
   "id": "129d9bd3",
   "metadata": {},
   "outputs": [
    {
     "data": {
      "image/png": "[encoded data removed]",
      "text/plain": [
       "<Figure size 640x480 with 1 Axes>"
      ]
     },
     "metadata": {},
     "output_type": "display_data"
    }
   ],
   "source": [
    "# Plot exam data\n",
    "plt.scatter(hours_studied, passed_exam, color='black', s=100)\n",
    "\n",
    "# Plot logistic curve\n",
    "plt.plot(sample_x, probability, color='red', linewidth=3)\n",
    "\n",
    "\n",
    "# Customization for readability\n",
    "plt.xticks(fontsize = 30)\n",
    "plt.yticks(fontsize = 30)\n",
    "plt.axhline(y=0, color='k', linestyle='--')\n",
    "plt.axhline(y=1, color='k', linestyle='--')\n",
    "\n",
    "# Label plot and set limits\n",
    "plt.ylabel('probability passed', fontsize = 30)\n",
    "plt.xlabel('hours studied', fontsize = 30)\n",
    "plt.xlim(-1, 25)\n",
    "plt.tight_layout()\n",
    "\n",
    "# Show the plot\n",
    "plt.show()"
   ]
  },
  {
   "cell_type": "markdown",
   "id": "496b0869",
   "metadata": {},
   "source": [
    "# Log-Odds"
   ]
  },
  {
   "attachments": {
    "odds.png": {
     "image/png": "[encoded data removed]"
    }
   },
   "cell_type": "markdown",
   "id": "42fe947a",
   "metadata": {},
   "source": [
    "In order to understand how this link function works, let’s dig into the interpretation of log-odds a little more. The odds of an event occurring is:\n",
    "\n",
    "![odds.png](attachment:odds.png)"
   ]
  },
  {
   "attachments": {
    "odds_of_passing.png": {
     "image/png": "[encoded data removed]"
    }
   },
   "cell_type": "markdown",
   "id": "22230967",
   "metadata": {},
   "source": [
    "For example, suppose that the probability a student passes an exam is 0.7. That means the probability of failing is 1 - 0.7 = 0.3. Thus, the odds of passing are:\n",
    "\n",
    "![odds_of_passing.png](attachment:odds_of_passing.png)"
   ]
  },
  {
   "cell_type": "markdown",
   "id": "eaccc0f4",
   "metadata": {},
   "source": [
    "This means that students are 2.33 times more likely to pass than to fail."
   ]
  },
  {
   "cell_type": "markdown",
   "id": "2e6454fd",
   "metadata": {},
   "source": [
    "*Suppose that there is a 40% probability of rain today (p = 0.4). Calculate the odds of rain*"
   ]
  },
  {
   "cell_type": "code",
   "execution_count": 53,
   "id": "a1ead860",
   "metadata": {},
   "outputs": [
    {
     "data": {
      "text/plain": [
       "0.6666666666666667"
      ]
     },
     "execution_count": 53,
     "metadata": {},
     "output_type": "execute_result"
    }
   ],
   "source": [
    "# Calculate odds_of_rain\n",
    "odds_of_rain = 0.4/(1-0.4)\n",
    "odds_of_rain"
   ]
  },
  {
   "cell_type": "code",
   "execution_count": 54,
   "id": "3ce475a8",
   "metadata": {},
   "outputs": [
    {
     "data": {
      "text/plain": [
       "-0.4054651081081643"
      ]
     },
     "execution_count": 54,
     "metadata": {},
     "output_type": "execute_result"
    }
   ],
   "source": [
    "# Calculate log_odds_of_rain\n",
    "log_odds_of_rain = np.log(odds_of_rain)\n",
    "log_odds_of_rain"
   ]
  },
  {
   "cell_type": "markdown",
   "id": "510fb040",
   "metadata": {},
   "source": [
    "*Suppose that there is a 90% probability that my train to work arrives on-time. Calculate the odds of my train being on-time*"
   ]
  },
  {
   "cell_type": "code",
   "execution_count": 55,
   "id": "2fb2187e",
   "metadata": {},
   "outputs": [
    {
     "data": {
      "text/plain": [
       "9.000000000000002"
      ]
     },
     "execution_count": 55,
     "metadata": {},
     "output_type": "execute_result"
    }
   ],
   "source": [
    "# Calculate odds_on_time\n",
    "odds_on_time = 0.9/(1-0.9)\n",
    "odds_on_time"
   ]
  },
  {
   "cell_type": "markdown",
   "id": "71aaf5da",
   "metadata": {},
   "source": [
    "Note that the odds are greater than 1 because the probability is greater than 0.5."
   ]
  },
  {
   "cell_type": "code",
   "execution_count": 56,
   "id": "0248d26f",
   "metadata": {},
   "outputs": [
    {
     "data": {
      "text/plain": [
       "2.1972245773362196"
      ]
     },
     "execution_count": 56,
     "metadata": {},
     "output_type": "execute_result"
    }
   ],
   "source": [
    "# Calculate log_odds_on_time\n",
    "log_odds_on_time = np.log(odds_on_time)\n",
    "log_odds_on_time"
   ]
  },
  {
   "cell_type": "markdown",
   "id": "44046429",
   "metadata": {},
   "source": [
    "Note that the log odds are positive because the probability of an on-time train was greater than 0.5."
   ]
  },
  {
   "cell_type": "markdown",
   "id": "d11e9f86",
   "metadata": {},
   "source": [
    "log-odds = intercept + (coefficient_1 * feature_1) + (coefficient_2 * feature_2) + ... + (coefficient_n * feature_n)"
   ]
  },
  {
   "cell_type": "markdown",
   "id": "3fc63571",
   "metadata": {},
   "source": [
    "# Sigmoid Function"
   ]
  },
  {
   "cell_type": "code",
   "execution_count": 57,
   "id": "d73e1a20",
   "metadata": {},
   "outputs": [],
   "source": [
    "# Save intercept and coef\n",
    "intercept = model.intercept_\n",
    "coef = model.coef_"
   ]
  },
  {
   "cell_type": "code",
   "execution_count": 58,
   "id": "fd44b364",
   "metadata": {},
   "outputs": [
    {
     "data": {
      "text/plain": [
       "array([-6.23665281])"
      ]
     },
     "execution_count": 58,
     "metadata": {},
     "output_type": "execute_result"
    }
   ],
   "source": [
    "intercept"
   ]
  },
  {
   "cell_type": "code",
   "execution_count": 59,
   "id": "04b57a8c",
   "metadata": {},
   "outputs": [
    {
     "data": {
      "text/plain": [
       "array([[0.59365161]])"
      ]
     },
     "execution_count": 59,
     "metadata": {},
     "output_type": "execute_result"
    }
   ],
   "source": [
    "coef"
   ]
  },
  {
   "cell_type": "code",
   "execution_count": 60,
   "id": "2ab06ee3",
   "metadata": {
    "collapsed": true
   },
   "outputs": [
    {
     "data": {
      "text/html": [
       "<div>\n",
       "<style scoped>\n",
       "    .dataframe tbody tr th:only-of-type {\n",
       "        vertical-align: middle;\n",
       "    }\n",
       "\n",
       "    .dataframe tbody tr th {\n",
       "        vertical-align: top;\n",
       "    }\n",
       "\n",
       "    .dataframe thead th {\n",
       "        text-align: right;\n",
       "    }\n",
       "</style>\n",
       "<table border=\"1\" class=\"dataframe\">\n",
       "  <thead>\n",
       "    <tr style=\"text-align: right;\">\n",
       "      <th></th>\n",
       "      <th>hours_studied</th>\n",
       "    </tr>\n",
       "  </thead>\n",
       "  <tbody>\n",
       "    <tr>\n",
       "      <th>0</th>\n",
       "      <td>-6.236653</td>\n",
       "    </tr>\n",
       "    <tr>\n",
       "      <th>1</th>\n",
       "      <td>-5.643001</td>\n",
       "    </tr>\n",
       "    <tr>\n",
       "      <th>2</th>\n",
       "      <td>-5.049350</td>\n",
       "    </tr>\n",
       "    <tr>\n",
       "      <th>3</th>\n",
       "      <td>-4.455698</td>\n",
       "    </tr>\n",
       "    <tr>\n",
       "      <th>4</th>\n",
       "      <td>-3.862046</td>\n",
       "    </tr>\n",
       "    <tr>\n",
       "      <th>5</th>\n",
       "      <td>-3.268395</td>\n",
       "    </tr>\n",
       "    <tr>\n",
       "      <th>6</th>\n",
       "      <td>-2.674743</td>\n",
       "    </tr>\n",
       "    <tr>\n",
       "      <th>7</th>\n",
       "      <td>-2.081092</td>\n",
       "    </tr>\n",
       "    <tr>\n",
       "      <th>8</th>\n",
       "      <td>-1.487440</td>\n",
       "    </tr>\n",
       "    <tr>\n",
       "      <th>9</th>\n",
       "      <td>-0.893788</td>\n",
       "    </tr>\n",
       "    <tr>\n",
       "      <th>10</th>\n",
       "      <td>-0.300137</td>\n",
       "    </tr>\n",
       "    <tr>\n",
       "      <th>11</th>\n",
       "      <td>0.293515</td>\n",
       "    </tr>\n",
       "    <tr>\n",
       "      <th>12</th>\n",
       "      <td>0.887166</td>\n",
       "    </tr>\n",
       "    <tr>\n",
       "      <th>13</th>\n",
       "      <td>1.480818</td>\n",
       "    </tr>\n",
       "    <tr>\n",
       "      <th>14</th>\n",
       "      <td>2.074470</td>\n",
       "    </tr>\n",
       "    <tr>\n",
       "      <th>15</th>\n",
       "      <td>2.668121</td>\n",
       "    </tr>\n",
       "    <tr>\n",
       "      <th>16</th>\n",
       "      <td>3.261773</td>\n",
       "    </tr>\n",
       "    <tr>\n",
       "      <th>17</th>\n",
       "      <td>3.855425</td>\n",
       "    </tr>\n",
       "    <tr>\n",
       "      <th>18</th>\n",
       "      <td>4.449076</td>\n",
       "    </tr>\n",
       "    <tr>\n",
       "      <th>19</th>\n",
       "      <td>5.042728</td>\n",
       "    </tr>\n",
       "  </tbody>\n",
       "</table>\n",
       "</div>"
      ],
      "text/plain": [
       "    hours_studied\n",
       "0       -6.236653\n",
       "1       -5.643001\n",
       "2       -5.049350\n",
       "3       -4.455698\n",
       "4       -3.862046\n",
       "5       -3.268395\n",
       "6       -2.674743\n",
       "7       -2.081092\n",
       "8       -1.487440\n",
       "9       -0.893788\n",
       "10      -0.300137\n",
       "11       0.293515\n",
       "12       0.887166\n",
       "13       1.480818\n",
       "14       2.074470\n",
       "15       2.668121\n",
       "16       3.261773\n",
       "17       3.855425\n",
       "18       4.449076\n",
       "19       5.042728"
      ]
     },
     "execution_count": 60,
     "metadata": {},
     "output_type": "execute_result"
    }
   ],
   "source": [
    "# Calculate log_odds here\n",
    "log_odds = model.intercept_ + model.coef_ * exam[['hours_studied']]\n",
    "log_odds"
   ]
  },
  {
   "cell_type": "code",
   "execution_count": 64,
   "id": "1b940202",
   "metadata": {},
   "outputs": [
    {
     "data": {
      "text/plain": [
       "-5.643001206930903"
      ]
     },
     "execution_count": 64,
     "metadata": {},
     "output_type": "execute_result"
    }
   ],
   "source": [
    "log_odds[\"hours_studied\"][1]"
   ]
  },
  {
   "cell_type": "code",
   "execution_count": 65,
   "id": "e330fe93",
   "metadata": {},
   "outputs": [
    {
     "data": {
      "text/plain": [
       "20"
      ]
     },
     "execution_count": 65,
     "metadata": {},
     "output_type": "execute_result"
    }
   ],
   "source": [
    "len(log_odds)"
   ]
  },
  {
   "cell_type": "code",
   "execution_count": 86,
   "id": "0c1ebc55",
   "metadata": {},
   "outputs": [],
   "source": [
    "log = []\n",
    "for i in range(len(log_odds)):\n",
    "    log.append(log_odds[\"hours_studied\"][i])"
   ]
  },
  {
   "cell_type": "code",
   "execution_count": 87,
   "id": "3acd890d",
   "metadata": {},
   "outputs": [
    {
     "data": {
      "text/plain": [
       "20"
      ]
     },
     "execution_count": 87,
     "metadata": {},
     "output_type": "execute_result"
    }
   ],
   "source": [
    "len(log)"
   ]
  },
  {
   "cell_type": "code",
   "execution_count": 72,
   "id": "3b8d8ad6",
   "metadata": {
    "collapsed": true
   },
   "outputs": [
    {
     "data": {
      "text/html": [
       "<div>\n",
       "<style scoped>\n",
       "    .dataframe tbody tr th:only-of-type {\n",
       "        vertical-align: middle;\n",
       "    }\n",
       "\n",
       "    .dataframe tbody tr th {\n",
       "        vertical-align: top;\n",
       "    }\n",
       "\n",
       "    .dataframe thead th {\n",
       "        text-align: right;\n",
       "    }\n",
       "</style>\n",
       "<table border=\"1\" class=\"dataframe\">\n",
       "  <thead>\n",
       "    <tr style=\"text-align: right;\">\n",
       "      <th></th>\n",
       "      <th>hours_studied</th>\n",
       "    </tr>\n",
       "  </thead>\n",
       "  <tbody>\n",
       "    <tr>\n",
       "      <th>0</th>\n",
       "      <td>0.001953</td>\n",
       "    </tr>\n",
       "    <tr>\n",
       "      <th>1</th>\n",
       "      <td>0.003530</td>\n",
       "    </tr>\n",
       "    <tr>\n",
       "      <th>2</th>\n",
       "      <td>0.006373</td>\n",
       "    </tr>\n",
       "    <tr>\n",
       "      <th>3</th>\n",
       "      <td>0.011479</td>\n",
       "    </tr>\n",
       "    <tr>\n",
       "      <th>4</th>\n",
       "      <td>0.020592</td>\n",
       "    </tr>\n",
       "    <tr>\n",
       "      <th>5</th>\n",
       "      <td>0.036671</td>\n",
       "    </tr>\n",
       "    <tr>\n",
       "      <th>6</th>\n",
       "      <td>0.064480</td>\n",
       "    </tr>\n",
       "    <tr>\n",
       "      <th>7</th>\n",
       "      <td>0.110948</td>\n",
       "    </tr>\n",
       "    <tr>\n",
       "      <th>8</th>\n",
       "      <td>0.184306</td>\n",
       "    </tr>\n",
       "    <tr>\n",
       "      <th>9</th>\n",
       "      <td>0.290329</td>\n",
       "    </tr>\n",
       "    <tr>\n",
       "      <th>10</th>\n",
       "      <td>0.425524</td>\n",
       "    </tr>\n",
       "    <tr>\n",
       "      <th>11</th>\n",
       "      <td>0.572856</td>\n",
       "    </tr>\n",
       "    <tr>\n",
       "      <th>12</th>\n",
       "      <td>0.708305</td>\n",
       "    </tr>\n",
       "    <tr>\n",
       "      <th>13</th>\n",
       "      <td>0.814696</td>\n",
       "    </tr>\n",
       "    <tr>\n",
       "      <th>14</th>\n",
       "      <td>0.888397</td>\n",
       "    </tr>\n",
       "    <tr>\n",
       "      <th>15</th>\n",
       "      <td>0.935119</td>\n",
       "    </tr>\n",
       "    <tr>\n",
       "      <th>16</th>\n",
       "      <td>0.963094</td>\n",
       "    </tr>\n",
       "    <tr>\n",
       "      <th>17</th>\n",
       "      <td>0.979274</td>\n",
       "    </tr>\n",
       "    <tr>\n",
       "      <th>18</th>\n",
       "      <td>0.988446</td>\n",
       "    </tr>\n",
       "    <tr>\n",
       "      <th>19</th>\n",
       "      <td>0.993585</td>\n",
       "    </tr>\n",
       "  </tbody>\n",
       "</table>\n",
       "</div>"
      ],
      "text/plain": [
       "    hours_studied\n",
       "0        0.001953\n",
       "1        0.003530\n",
       "2        0.006373\n",
       "3        0.011479\n",
       "4        0.020592\n",
       "5        0.036671\n",
       "6        0.064480\n",
       "7        0.110948\n",
       "8        0.184306\n",
       "9        0.290329\n",
       "10       0.425524\n",
       "11       0.572856\n",
       "12       0.708305\n",
       "13       0.814696\n",
       "14       0.888397\n",
       "15       0.935119\n",
       "16       0.963094\n",
       "17       0.979274\n",
       "18       0.988446\n",
       "19       0.993585"
      ]
     },
     "execution_count": 72,
     "metadata": {},
     "output_type": "execute_result"
    }
   ],
   "source": [
    "# Calculate pred_probability_passing here\n",
    "pred_probability_passing = np.exp(log_odds)/(1+ np.exp(log_odds))\n",
    "pred_probability_passing"
   ]
  },
  {
   "cell_type": "code",
   "execution_count": null,
   "id": "f44b38e5",
   "metadata": {},
   "outputs": [],
   "source": []
  },
  {
   "cell_type": "code",
   "execution_count": 84,
   "id": "857c8e19",
   "metadata": {},
   "outputs": [],
   "source": [
    "prob = []\n",
    "for i in range(len(pred_probability_passing)):\n",
    "    prob.append(pred_probability_passing[\"hours_studied\"][i])"
   ]
  },
  {
   "cell_type": "code",
   "execution_count": 85,
   "id": "3dbb853a",
   "metadata": {},
   "outputs": [
    {
     "data": {
      "text/plain": [
       "20"
      ]
     },
     "execution_count": 85,
     "metadata": {},
     "output_type": "execute_result"
    }
   ],
   "source": [
    "len(prob)"
   ]
  },
  {
   "cell_type": "code",
   "execution_count": 97,
   "id": "257c5489",
   "metadata": {},
   "outputs": [
    {
     "data": {
      "image/png": "[encoded data removed]",
      "text/plain": [
       "<Figure size 640x480 with 1 Axes>"
      ]
     },
     "metadata": {},
     "output_type": "display_data"
    }
   ],
   "source": [
    "# Plot the sigmoid curve\n",
    "plt.plot(log, prob, color='b', label='Sigmoid Function')\n",
    "\n",
    "# Add horizontal dashed line at y=0.5\n",
    "plt.axhline(y=0.5, color='k', linestyle=':', label='Probability = 0.5')\n",
    "\n",
    "# Add vertical dashed line at x=0\n",
    "plt.axvline(x=0, color='r', linestyle='--', label='Log-Odds = 0')\n",
    "\n",
    "# Set plot title and axis labels\n",
    "plt.title(\"Sigmoid Function\", fontsize=18)\n",
    "plt.ylabel('Probability', fontsize=15)\n",
    "plt.xlabel('Log-Odds', fontsize=15)\n",
    "\n",
    "# Set plot grid and legend\n",
    "plt.grid(True, linestyle='--', alpha=0.7)\n",
    "plt.legend(fontsize=12)\n",
    "\n",
    "# Show the plot\n",
    "plt.tight_layout()\n",
    "plt.show()"
   ]
  },
  {
   "cell_type": "markdown",
   "id": "fe4ff81c",
   "metadata": {},
   "source": [
    "# Fitting a model in sklearn"
   ]
  },
  {
   "cell_type": "markdown",
   "id": "f48f9a0c",
   "metadata": {},
   "source": [
    "The coefficients can be interpreted as follows:\n",
    "\n",
    "* Large positive coefficient: a one unit increase in that feature is associated with a large increase in the log odds (and therefore probability) of a datapoint belonging to the positive class (the outcome group labeled as 1)\n",
    "* Large negative coefficient: a one unit increase in that feature is associated with a large decrease in the log odds/probability of belonging to the positive class.\n",
    "* Coefficient of 0: The feature is not associated with the outcome."
   ]
  },
  {
   "cell_type": "markdown",
   "id": "476f6f57",
   "metadata": {},
   "source": [
    "**Note :-** sklearn‘s logistic regression implementation requires the features to be standardized because regularization is implemented by default."
   ]
  },
  {
   "cell_type": "markdown",
   "id": "7351d45e",
   "metadata": {},
   "source": [
    "* X_train is the feature matrix, containing standardized training data for hours studied and practice test score\n",
    "* y_train contains the outcome variable for the training data: whether or not each student passed the final exam (1 indicates passing, 0 indicates failing)"
   ]
  },
  {
   "cell_type": "code",
   "execution_count": 3,
   "id": "888fe8a5",
   "metadata": {},
   "outputs": [
    {
     "data": {
      "text/html": [
       "<div>\n",
       "<style scoped>\n",
       "    .dataframe tbody tr th:only-of-type {\n",
       "        vertical-align: middle;\n",
       "    }\n",
       "\n",
       "    .dataframe tbody tr th {\n",
       "        vertical-align: top;\n",
       "    }\n",
       "\n",
       "    .dataframe thead th {\n",
       "        text-align: right;\n",
       "    }\n",
       "</style>\n",
       "<table border=\"1\" class=\"dataframe\">\n",
       "  <thead>\n",
       "    <tr style=\"text-align: right;\">\n",
       "      <th></th>\n",
       "      <th>hours_studied</th>\n",
       "      <th>practice_test</th>\n",
       "      <th>passed_exam</th>\n",
       "    </tr>\n",
       "  </thead>\n",
       "  <tbody>\n",
       "    <tr>\n",
       "      <th>0</th>\n",
       "      <td>0</td>\n",
       "      <td>55</td>\n",
       "      <td>0</td>\n",
       "    </tr>\n",
       "    <tr>\n",
       "      <th>1</th>\n",
       "      <td>1</td>\n",
       "      <td>75</td>\n",
       "      <td>0</td>\n",
       "    </tr>\n",
       "    <tr>\n",
       "      <th>2</th>\n",
       "      <td>2</td>\n",
       "      <td>32</td>\n",
       "      <td>0</td>\n",
       "    </tr>\n",
       "    <tr>\n",
       "      <th>3</th>\n",
       "      <td>3</td>\n",
       "      <td>80</td>\n",
       "      <td>0</td>\n",
       "    </tr>\n",
       "    <tr>\n",
       "      <th>4</th>\n",
       "      <td>4</td>\n",
       "      <td>75</td>\n",
       "      <td>0</td>\n",
       "    </tr>\n",
       "  </tbody>\n",
       "</table>\n",
       "</div>"
      ],
      "text/plain": [
       "   hours_studied  practice_test  passed_exam\n",
       "0              0             55            0\n",
       "1              1             75            0\n",
       "2              2             32            0\n",
       "3              3             80            0\n",
       "4              4             75            0"
      ]
     },
     "execution_count": 3,
     "metadata": {},
     "output_type": "execute_result"
    }
   ],
   "source": [
    "exam_2 = pd.read_csv(\"exam_2.csv\")\n",
    "exam_2.head()"
   ]
  },
  {
   "cell_type": "code",
   "execution_count": 4,
   "id": "a9a8d910",
   "metadata": {},
   "outputs": [],
   "source": [
    "# Separate out X and y\n",
    "X = exam_2[['hours_studied', 'practice_test']]\n",
    "y = exam_2.passed_exam"
   ]
  },
  {
   "cell_type": "code",
   "execution_count": 106,
   "id": "ff0b49ba",
   "metadata": {
    "collapsed": true
   },
   "outputs": [
    {
     "data": {
      "text/html": [
       "<div>\n",
       "<style scoped>\n",
       "    .dataframe tbody tr th:only-of-type {\n",
       "        vertical-align: middle;\n",
       "    }\n",
       "\n",
       "    .dataframe tbody tr th {\n",
       "        vertical-align: top;\n",
       "    }\n",
       "\n",
       "    .dataframe thead th {\n",
       "        text-align: right;\n",
       "    }\n",
       "</style>\n",
       "<table border=\"1\" class=\"dataframe\">\n",
       "  <thead>\n",
       "    <tr style=\"text-align: right;\">\n",
       "      <th></th>\n",
       "      <th>hours_studied</th>\n",
       "      <th>practice_test</th>\n",
       "    </tr>\n",
       "  </thead>\n",
       "  <tbody>\n",
       "    <tr>\n",
       "      <th>0</th>\n",
       "      <td>0</td>\n",
       "      <td>55</td>\n",
       "    </tr>\n",
       "    <tr>\n",
       "      <th>1</th>\n",
       "      <td>1</td>\n",
       "      <td>75</td>\n",
       "    </tr>\n",
       "    <tr>\n",
       "      <th>2</th>\n",
       "      <td>2</td>\n",
       "      <td>32</td>\n",
       "    </tr>\n",
       "    <tr>\n",
       "      <th>3</th>\n",
       "      <td>3</td>\n",
       "      <td>80</td>\n",
       "    </tr>\n",
       "    <tr>\n",
       "      <th>4</th>\n",
       "      <td>4</td>\n",
       "      <td>75</td>\n",
       "    </tr>\n",
       "    <tr>\n",
       "      <th>5</th>\n",
       "      <td>5</td>\n",
       "      <td>95</td>\n",
       "    </tr>\n",
       "    <tr>\n",
       "      <th>6</th>\n",
       "      <td>6</td>\n",
       "      <td>83</td>\n",
       "    </tr>\n",
       "    <tr>\n",
       "      <th>7</th>\n",
       "      <td>7</td>\n",
       "      <td>87</td>\n",
       "    </tr>\n",
       "    <tr>\n",
       "      <th>8</th>\n",
       "      <td>8</td>\n",
       "      <td>78</td>\n",
       "    </tr>\n",
       "    <tr>\n",
       "      <th>9</th>\n",
       "      <td>9</td>\n",
       "      <td>85</td>\n",
       "    </tr>\n",
       "    <tr>\n",
       "      <th>10</th>\n",
       "      <td>10</td>\n",
       "      <td>77</td>\n",
       "    </tr>\n",
       "    <tr>\n",
       "      <th>11</th>\n",
       "      <td>11</td>\n",
       "      <td>89</td>\n",
       "    </tr>\n",
       "    <tr>\n",
       "      <th>12</th>\n",
       "      <td>12</td>\n",
       "      <td>96</td>\n",
       "    </tr>\n",
       "    <tr>\n",
       "      <th>13</th>\n",
       "      <td>13</td>\n",
       "      <td>83</td>\n",
       "    </tr>\n",
       "    <tr>\n",
       "      <th>14</th>\n",
       "      <td>14</td>\n",
       "      <td>98</td>\n",
       "    </tr>\n",
       "    <tr>\n",
       "      <th>15</th>\n",
       "      <td>15</td>\n",
       "      <td>87</td>\n",
       "    </tr>\n",
       "    <tr>\n",
       "      <th>16</th>\n",
       "      <td>16</td>\n",
       "      <td>90</td>\n",
       "    </tr>\n",
       "    <tr>\n",
       "      <th>17</th>\n",
       "      <td>17</td>\n",
       "      <td>92</td>\n",
       "    </tr>\n",
       "    <tr>\n",
       "      <th>18</th>\n",
       "      <td>18</td>\n",
       "      <td>92</td>\n",
       "    </tr>\n",
       "    <tr>\n",
       "      <th>19</th>\n",
       "      <td>19</td>\n",
       "      <td>100</td>\n",
       "    </tr>\n",
       "  </tbody>\n",
       "</table>\n",
       "</div>"
      ],
      "text/plain": [
       "    hours_studied  practice_test\n",
       "0               0             55\n",
       "1               1             75\n",
       "2               2             32\n",
       "3               3             80\n",
       "4               4             75\n",
       "5               5             95\n",
       "6               6             83\n",
       "7               7             87\n",
       "8               8             78\n",
       "9               9             85\n",
       "10             10             77\n",
       "11             11             89\n",
       "12             12             96\n",
       "13             13             83\n",
       "14             14             98\n",
       "15             15             87\n",
       "16             16             90\n",
       "17             17             92\n",
       "18             18             92\n",
       "19             19            100"
      ]
     },
     "execution_count": 106,
     "metadata": {},
     "output_type": "execute_result"
    }
   ],
   "source": [
    "X"
   ]
  },
  {
   "cell_type": "code",
   "execution_count": 107,
   "id": "f287b9a9",
   "metadata": {
    "collapsed": true
   },
   "outputs": [
    {
     "data": {
      "text/plain": [
       "0     0\n",
       "1     0\n",
       "2     0\n",
       "3     0\n",
       "4     0\n",
       "5     0\n",
       "6     0\n",
       "7     0\n",
       "8     0\n",
       "9     1\n",
       "10    1\n",
       "11    0\n",
       "12    0\n",
       "13    1\n",
       "14    1\n",
       "15    1\n",
       "16    1\n",
       "17    1\n",
       "18    1\n",
       "19    1\n",
       "Name: passed_exam, dtype: int64"
      ]
     },
     "execution_count": 107,
     "metadata": {},
     "output_type": "execute_result"
    }
   ],
   "source": [
    "y"
   ]
  },
  {
   "cell_type": "code",
   "execution_count": 5,
   "id": "8e1aa4d5",
   "metadata": {},
   "outputs": [],
   "source": [
    "# Transform X\n",
    "from sklearn.preprocessing import StandardScaler"
   ]
  },
  {
   "cell_type": "code",
   "execution_count": 6,
   "id": "76144c33",
   "metadata": {},
   "outputs": [],
   "source": [
    "scaler = StandardScaler()"
   ]
  },
  {
   "cell_type": "code",
   "execution_count": 7,
   "id": "5263128a",
   "metadata": {},
   "outputs": [
    {
     "data": {
      "text/html": [
       "<style>#sk-container-id-1 {color: black;}#sk-container-id-1 pre{padding: 0;}#sk-container-id-1 div.sk-toggleable {background-color: white;}#sk-container-id-1 label.sk-toggleable__label {cursor: pointer;display: block;width: 100%;margin-bottom: 0;padding: 0.3em;box-sizing: border-box;text-align: center;}#sk-container-id-1 label.sk-toggleable__label-arrow:before {content: \"▸\";float: left;margin-right: 0.25em;color: #696969;}#sk-container-id-1 label.sk-toggleable__label-arrow:hover:before {color: black;}#sk-container-id-1 div.sk-estimator:hover label.sk-toggleable__label-arrow:before {color: black;}#sk-container-id-1 div.sk-toggleable__content {max-height: 0;max-width: 0;overflow: hidden;text-align: left;background-color: #f0f8ff;}#sk-container-id-1 div.sk-toggleable__content pre {margin: 0.2em;color: black;border-radius: 0.25em;background-color: #f0f8ff;}#sk-container-id-1 input.sk-toggleable__control:checked~div.sk-toggleable__content {max-height: 200px;max-width: 100%;overflow: auto;}#sk-container-id-1 input.sk-toggleable__control:checked~label.sk-toggleable__label-arrow:before {content: \"▾\";}#sk-container-id-1 div.sk-estimator input.sk-toggleable__control:checked~label.sk-toggleable__label {background-color: #d4ebff;}#sk-container-id-1 div.sk-label input.sk-toggleable__control:checked~label.sk-toggleable__label {background-color: #d4ebff;}#sk-container-id-1 input.sk-hidden--visually {border: 0;clip: rect(1px 1px 1px 1px);clip: rect(1px, 1px, 1px, 1px);height: 1px;margin: -1px;overflow: hidden;padding: 0;position: absolute;width: 1px;}#sk-container-id-1 div.sk-estimator {font-family: monospace;background-color: #f0f8ff;border: 1px dotted black;border-radius: 0.25em;box-sizing: border-box;margin-bottom: 0.5em;}#sk-container-id-1 div.sk-estimator:hover {background-color: #d4ebff;}#sk-container-id-1 div.sk-parallel-item::after {content: \"\";width: 100%;border-bottom: 1px solid gray;flex-grow: 1;}#sk-container-id-1 div.sk-label:hover label.sk-toggleable__label {background-color: #d4ebff;}#sk-container-id-1 div.sk-serial::before {content: \"\";position: absolute;border-left: 1px solid gray;box-sizing: border-box;top: 0;bottom: 0;left: 50%;z-index: 0;}#sk-container-id-1 div.sk-serial {display: flex;flex-direction: column;align-items: center;background-color: white;padding-right: 0.2em;padding-left: 0.2em;position: relative;}#sk-container-id-1 div.sk-item {position: relative;z-index: 1;}#sk-container-id-1 div.sk-parallel {display: flex;align-items: stretch;justify-content: center;background-color: white;position: relative;}#sk-container-id-1 div.sk-item::before, #sk-container-id-1 div.sk-parallel-item::before {content: \"\";position: absolute;border-left: 1px solid gray;box-sizing: border-box;top: 0;bottom: 0;left: 50%;z-index: -1;}#sk-container-id-1 div.sk-parallel-item {display: flex;flex-direction: column;z-index: 1;position: relative;background-color: white;}#sk-container-id-1 div.sk-parallel-item:first-child::after {align-self: flex-end;width: 50%;}#sk-container-id-1 div.sk-parallel-item:last-child::after {align-self: flex-start;width: 50%;}#sk-container-id-1 div.sk-parallel-item:only-child::after {width: 0;}#sk-container-id-1 div.sk-dashed-wrapped {border: 1px dashed gray;margin: 0 0.4em 0.5em 0.4em;box-sizing: border-box;padding-bottom: 0.4em;background-color: white;}#sk-container-id-1 div.sk-label label {font-family: monospace;font-weight: bold;display: inline-block;line-height: 1.2em;}#sk-container-id-1 div.sk-label-container {text-align: center;}#sk-container-id-1 div.sk-container {/* jupyter's `normalize.less` sets `[hidden] { display: none; }` but bootstrap.min.css set `[hidden] { display: none !important; }` so we also need the `!important` here to be able to override the default hidden behavior on the sphinx rendered scikit-learn.org. See: https://github.com/scikit-learn/scikit-learn/issues/21755 */display: inline-block !important;position: relative;}#sk-container-id-1 div.sk-text-repr-fallback {display: none;}</style><div id=\"sk-container-id-1\" class=\"sk-top-container\"><div class=\"sk-text-repr-fallback\"><pre>StandardScaler()</pre><b>In a Jupyter environment, please rerun this cell to show the HTML representation or trust the notebook. <br />On GitHub, the HTML representation is unable to render, please try loading this page with nbviewer.org.</b></div><div class=\"sk-container\" hidden><div class=\"sk-item\"><div class=\"sk-estimator sk-toggleable\"><input class=\"sk-toggleable__control sk-hidden--visually\" id=\"sk-estimator-id-1\" type=\"checkbox\" checked><label for=\"sk-estimator-id-1\" class=\"sk-toggleable__label sk-toggleable__label-arrow\">StandardScaler</label><div class=\"sk-toggleable__content\"><pre>StandardScaler()</pre></div></div></div></div></div>"
      ],
      "text/plain": [
       "StandardScaler()"
      ]
     },
     "execution_count": 7,
     "metadata": {},
     "output_type": "execute_result"
    }
   ],
   "source": [
    "scaler"
   ]
  },
  {
   "cell_type": "code",
   "execution_count": 8,
   "id": "c42e344e",
   "metadata": {},
   "outputs": [],
   "source": [
    "scaler.fit(X)\n",
    "X = scaler.transform(X)"
   ]
  },
  {
   "cell_type": "code",
   "execution_count": 112,
   "id": "b8a42279",
   "metadata": {
    "collapsed": true
   },
   "outputs": [
    {
     "data": {
      "text/plain": [
       "array([[-1.64750894, -1.79313169],\n",
       "       [-1.47408695, -0.48666051],\n",
       "       [-1.30066495, -3.29557355],\n",
       "       [-1.12724296, -0.16004272],\n",
       "       [-0.95382097, -0.48666051],\n",
       "       [-0.78039897,  0.81981066],\n",
       "       [-0.60697698,  0.03592796],\n",
       "       [-0.43355498,  0.29722219],\n",
       "       [-0.26013299, -0.29068984],\n",
       "       [-0.086711  ,  0.16657508],\n",
       "       [ 0.086711  , -0.3560134 ],\n",
       "       [ 0.26013299,  0.42786931],\n",
       "       [ 0.43355498,  0.88513422],\n",
       "       [ 0.60697698,  0.03592796],\n",
       "       [ 0.78039897,  1.01578134],\n",
       "       [ 0.95382097,  0.29722219],\n",
       "       [ 1.12724296,  0.49319287],\n",
       "       [ 1.30066495,  0.62383999],\n",
       "       [ 1.47408695,  0.62383999],\n",
       "       [ 1.64750894,  1.14642846]])"
      ]
     },
     "execution_count": 112,
     "metadata": {},
     "output_type": "execute_result"
    }
   ],
   "source": [
    "X"
   ]
  },
  {
   "cell_type": "code",
   "execution_count": 113,
   "id": "c60e8133",
   "metadata": {},
   "outputs": [
    {
     "data": {
      "text/plain": [
       "(20, 2)"
      ]
     },
     "execution_count": 113,
     "metadata": {},
     "output_type": "execute_result"
    }
   ],
   "source": [
    "X.shape"
   ]
  },
  {
   "cell_type": "code",
   "execution_count": 9,
   "id": "c1259f7c",
   "metadata": {},
   "outputs": [],
   "source": [
    "# Split data into training and testing sets\n",
    "from sklearn.model_selection import train_test_split"
   ]
  },
  {
   "cell_type": "code",
   "execution_count": 10,
   "id": "fd88718e",
   "metadata": {},
   "outputs": [],
   "source": [
    "X_train, X_test, y_train, y_test = train_test_split(X, y, test_size=0.25, random_state = 27)"
   ]
  },
  {
   "cell_type": "code",
   "execution_count": 123,
   "id": "b0f723ab",
   "metadata": {
    "collapsed": true
   },
   "outputs": [
    {
     "data": {
      "text/plain": [
       "array([[-1.12724296, -0.16004272],\n",
       "       [-0.60697698,  0.03592796],\n",
       "       [-0.95382097, -0.48666051],\n",
       "       [ 0.78039897,  1.01578134],\n",
       "       [ 0.43355498,  0.88513422],\n",
       "       [ 0.086711  , -0.3560134 ],\n",
       "       [-1.30066495, -3.29557355],\n",
       "       [-1.47408695, -0.48666051],\n",
       "       [ 0.60697698,  0.03592796],\n",
       "       [-0.086711  ,  0.16657508],\n",
       "       [ 1.47408695,  0.62383999],\n",
       "       [-0.78039897,  0.81981066],\n",
       "       [ 1.12724296,  0.49319287],\n",
       "       [-0.26013299, -0.29068984],\n",
       "       [ 1.64750894,  1.14642846]])"
      ]
     },
     "execution_count": 123,
     "metadata": {},
     "output_type": "execute_result"
    }
   ],
   "source": [
    "X_train"
   ]
  },
  {
   "cell_type": "code",
   "execution_count": 124,
   "id": "6820b8d3",
   "metadata": {
    "collapsed": true
   },
   "outputs": [
    {
     "data": {
      "text/plain": [
       "array([[-0.43355498,  0.29722219],\n",
       "       [ 0.95382097,  0.29722219],\n",
       "       [-1.64750894, -1.79313169],\n",
       "       [ 0.26013299,  0.42786931],\n",
       "       [ 1.30066495,  0.62383999]])"
      ]
     },
     "execution_count": 124,
     "metadata": {},
     "output_type": "execute_result"
    }
   ],
   "source": [
    "X_test"
   ]
  },
  {
   "cell_type": "code",
   "execution_count": 126,
   "id": "9d44f56f",
   "metadata": {
    "collapsed": true
   },
   "outputs": [
    {
     "data": {
      "text/plain": [
       "3     0\n",
       "6     0\n",
       "4     0\n",
       "14    1\n",
       "12    0\n",
       "10    1\n",
       "2     0\n",
       "1     0\n",
       "13    1\n",
       "9     1\n",
       "18    1\n",
       "5     0\n",
       "16    1\n",
       "8     0\n",
       "19    1\n",
       "Name: passed_exam, dtype: int64"
      ]
     },
     "execution_count": 126,
     "metadata": {},
     "output_type": "execute_result"
    }
   ],
   "source": [
    "y_train"
   ]
  },
  {
   "cell_type": "code",
   "execution_count": 20,
   "id": "7a2975af",
   "metadata": {},
   "outputs": [
    {
     "data": {
      "text/plain": [
       "7     0\n",
       "15    1\n",
       "0     0\n",
       "11    0\n",
       "17    1\n",
       "Name: passed_exam, dtype: int64"
      ]
     },
     "execution_count": 20,
     "metadata": {},
     "output_type": "execute_result"
    }
   ],
   "source": [
    "y_test"
   ]
  },
  {
   "cell_type": "code",
   "execution_count": 11,
   "id": "3bedd457",
   "metadata": {},
   "outputs": [],
   "source": [
    "# Creating and fiting the logistic regression model:\n",
    "from sklearn.linear_model import LogisticRegression"
   ]
  },
  {
   "cell_type": "code",
   "execution_count": 12,
   "id": "74aa2c31",
   "metadata": {},
   "outputs": [
    {
     "data": {
      "text/html": [
       "<style>#sk-container-id-2 {color: black;}#sk-container-id-2 pre{padding: 0;}#sk-container-id-2 div.sk-toggleable {background-color: white;}#sk-container-id-2 label.sk-toggleable__label {cursor: pointer;display: block;width: 100%;margin-bottom: 0;padding: 0.3em;box-sizing: border-box;text-align: center;}#sk-container-id-2 label.sk-toggleable__label-arrow:before {content: \"▸\";float: left;margin-right: 0.25em;color: #696969;}#sk-container-id-2 label.sk-toggleable__label-arrow:hover:before {color: black;}#sk-container-id-2 div.sk-estimator:hover label.sk-toggleable__label-arrow:before {color: black;}#sk-container-id-2 div.sk-toggleable__content {max-height: 0;max-width: 0;overflow: hidden;text-align: left;background-color: #f0f8ff;}#sk-container-id-2 div.sk-toggleable__content pre {margin: 0.2em;color: black;border-radius: 0.25em;background-color: #f0f8ff;}#sk-container-id-2 input.sk-toggleable__control:checked~div.sk-toggleable__content {max-height: 200px;max-width: 100%;overflow: auto;}#sk-container-id-2 input.sk-toggleable__control:checked~label.sk-toggleable__label-arrow:before {content: \"▾\";}#sk-container-id-2 div.sk-estimator input.sk-toggleable__control:checked~label.sk-toggleable__label {background-color: #d4ebff;}#sk-container-id-2 div.sk-label input.sk-toggleable__control:checked~label.sk-toggleable__label {background-color: #d4ebff;}#sk-container-id-2 input.sk-hidden--visually {border: 0;clip: rect(1px 1px 1px 1px);clip: rect(1px, 1px, 1px, 1px);height: 1px;margin: -1px;overflow: hidden;padding: 0;position: absolute;width: 1px;}#sk-container-id-2 div.sk-estimator {font-family: monospace;background-color: #f0f8ff;border: 1px dotted black;border-radius: 0.25em;box-sizing: border-box;margin-bottom: 0.5em;}#sk-container-id-2 div.sk-estimator:hover {background-color: #d4ebff;}#sk-container-id-2 div.sk-parallel-item::after {content: \"\";width: 100%;border-bottom: 1px solid gray;flex-grow: 1;}#sk-container-id-2 div.sk-label:hover label.sk-toggleable__label {background-color: #d4ebff;}#sk-container-id-2 div.sk-serial::before {content: \"\";position: absolute;border-left: 1px solid gray;box-sizing: border-box;top: 0;bottom: 0;left: 50%;z-index: 0;}#sk-container-id-2 div.sk-serial {display: flex;flex-direction: column;align-items: center;background-color: white;padding-right: 0.2em;padding-left: 0.2em;position: relative;}#sk-container-id-2 div.sk-item {position: relative;z-index: 1;}#sk-container-id-2 div.sk-parallel {display: flex;align-items: stretch;justify-content: center;background-color: white;position: relative;}#sk-container-id-2 div.sk-item::before, #sk-container-id-2 div.sk-parallel-item::before {content: \"\";position: absolute;border-left: 1px solid gray;box-sizing: border-box;top: 0;bottom: 0;left: 50%;z-index: -1;}#sk-container-id-2 div.sk-parallel-item {display: flex;flex-direction: column;z-index: 1;position: relative;background-color: white;}#sk-container-id-2 div.sk-parallel-item:first-child::after {align-self: flex-end;width: 50%;}#sk-container-id-2 div.sk-parallel-item:last-child::after {align-self: flex-start;width: 50%;}#sk-container-id-2 div.sk-parallel-item:only-child::after {width: 0;}#sk-container-id-2 div.sk-dashed-wrapped {border: 1px dashed gray;margin: 0 0.4em 0.5em 0.4em;box-sizing: border-box;padding-bottom: 0.4em;background-color: white;}#sk-container-id-2 div.sk-label label {font-family: monospace;font-weight: bold;display: inline-block;line-height: 1.2em;}#sk-container-id-2 div.sk-label-container {text-align: center;}#sk-container-id-2 div.sk-container {/* jupyter's `normalize.less` sets `[hidden] { display: none; }` but bootstrap.min.css set `[hidden] { display: none !important; }` so we also need the `!important` here to be able to override the default hidden behavior on the sphinx rendered scikit-learn.org. See: https://github.com/scikit-learn/scikit-learn/issues/21755 */display: inline-block !important;position: relative;}#sk-container-id-2 div.sk-text-repr-fallback {display: none;}</style><div id=\"sk-container-id-2\" class=\"sk-top-container\"><div class=\"sk-text-repr-fallback\"><pre>LogisticRegression()</pre><b>In a Jupyter environment, please rerun this cell to show the HTML representation or trust the notebook. <br />On GitHub, the HTML representation is unable to render, please try loading this page with nbviewer.org.</b></div><div class=\"sk-container\" hidden><div class=\"sk-item\"><div class=\"sk-estimator sk-toggleable\"><input class=\"sk-toggleable__control sk-hidden--visually\" id=\"sk-estimator-id-2\" type=\"checkbox\" checked><label for=\"sk-estimator-id-2\" class=\"sk-toggleable__label sk-toggleable__label-arrow\">LogisticRegression</label><div class=\"sk-toggleable__content\"><pre>LogisticRegression()</pre></div></div></div></div></div>"
      ],
      "text/plain": [
       "LogisticRegression()"
      ]
     },
     "execution_count": 12,
     "metadata": {},
     "output_type": "execute_result"
    }
   ],
   "source": [
    "exam_2_lr = LogisticRegression()\n",
    "exam_2_lr"
   ]
  },
  {
   "cell_type": "code",
   "execution_count": 13,
   "id": "8894b079",
   "metadata": {},
   "outputs": [
    {
     "data": {
      "text/html": [
       "<style>#sk-container-id-3 {color: black;}#sk-container-id-3 pre{padding: 0;}#sk-container-id-3 div.sk-toggleable {background-color: white;}#sk-container-id-3 label.sk-toggleable__label {cursor: pointer;display: block;width: 100%;margin-bottom: 0;padding: 0.3em;box-sizing: border-box;text-align: center;}#sk-container-id-3 label.sk-toggleable__label-arrow:before {content: \"▸\";float: left;margin-right: 0.25em;color: #696969;}#sk-container-id-3 label.sk-toggleable__label-arrow:hover:before {color: black;}#sk-container-id-3 div.sk-estimator:hover label.sk-toggleable__label-arrow:before {color: black;}#sk-container-id-3 div.sk-toggleable__content {max-height: 0;max-width: 0;overflow: hidden;text-align: left;background-color: #f0f8ff;}#sk-container-id-3 div.sk-toggleable__content pre {margin: 0.2em;color: black;border-radius: 0.25em;background-color: #f0f8ff;}#sk-container-id-3 input.sk-toggleable__control:checked~div.sk-toggleable__content {max-height: 200px;max-width: 100%;overflow: auto;}#sk-container-id-3 input.sk-toggleable__control:checked~label.sk-toggleable__label-arrow:before {content: \"▾\";}#sk-container-id-3 div.sk-estimator input.sk-toggleable__control:checked~label.sk-toggleable__label {background-color: #d4ebff;}#sk-container-id-3 div.sk-label input.sk-toggleable__control:checked~label.sk-toggleable__label {background-color: #d4ebff;}#sk-container-id-3 input.sk-hidden--visually {border: 0;clip: rect(1px 1px 1px 1px);clip: rect(1px, 1px, 1px, 1px);height: 1px;margin: -1px;overflow: hidden;padding: 0;position: absolute;width: 1px;}#sk-container-id-3 div.sk-estimator {font-family: monospace;background-color: #f0f8ff;border: 1px dotted black;border-radius: 0.25em;box-sizing: border-box;margin-bottom: 0.5em;}#sk-container-id-3 div.sk-estimator:hover {background-color: #d4ebff;}#sk-container-id-3 div.sk-parallel-item::after {content: \"\";width: 100%;border-bottom: 1px solid gray;flex-grow: 1;}#sk-container-id-3 div.sk-label:hover label.sk-toggleable__label {background-color: #d4ebff;}#sk-container-id-3 div.sk-serial::before {content: \"\";position: absolute;border-left: 1px solid gray;box-sizing: border-box;top: 0;bottom: 0;left: 50%;z-index: 0;}#sk-container-id-3 div.sk-serial {display: flex;flex-direction: column;align-items: center;background-color: white;padding-right: 0.2em;padding-left: 0.2em;position: relative;}#sk-container-id-3 div.sk-item {position: relative;z-index: 1;}#sk-container-id-3 div.sk-parallel {display: flex;align-items: stretch;justify-content: center;background-color: white;position: relative;}#sk-container-id-3 div.sk-item::before, #sk-container-id-3 div.sk-parallel-item::before {content: \"\";position: absolute;border-left: 1px solid gray;box-sizing: border-box;top: 0;bottom: 0;left: 50%;z-index: -1;}#sk-container-id-3 div.sk-parallel-item {display: flex;flex-direction: column;z-index: 1;position: relative;background-color: white;}#sk-container-id-3 div.sk-parallel-item:first-child::after {align-self: flex-end;width: 50%;}#sk-container-id-3 div.sk-parallel-item:last-child::after {align-self: flex-start;width: 50%;}#sk-container-id-3 div.sk-parallel-item:only-child::after {width: 0;}#sk-container-id-3 div.sk-dashed-wrapped {border: 1px dashed gray;margin: 0 0.4em 0.5em 0.4em;box-sizing: border-box;padding-bottom: 0.4em;background-color: white;}#sk-container-id-3 div.sk-label label {font-family: monospace;font-weight: bold;display: inline-block;line-height: 1.2em;}#sk-container-id-3 div.sk-label-container {text-align: center;}#sk-container-id-3 div.sk-container {/* jupyter's `normalize.less` sets `[hidden] { display: none; }` but bootstrap.min.css set `[hidden] { display: none !important; }` so we also need the `!important` here to be able to override the default hidden behavior on the sphinx rendered scikit-learn.org. See: https://github.com/scikit-learn/scikit-learn/issues/21755 */display: inline-block !important;position: relative;}#sk-container-id-3 div.sk-text-repr-fallback {display: none;}</style><div id=\"sk-container-id-3\" class=\"sk-top-container\"><div class=\"sk-text-repr-fallback\"><pre>LogisticRegression()</pre><b>In a Jupyter environment, please rerun this cell to show the HTML representation or trust the notebook. <br />On GitHub, the HTML representation is unable to render, please try loading this page with nbviewer.org.</b></div><div class=\"sk-container\" hidden><div class=\"sk-item\"><div class=\"sk-estimator sk-toggleable\"><input class=\"sk-toggleable__control sk-hidden--visually\" id=\"sk-estimator-id-3\" type=\"checkbox\" checked><label for=\"sk-estimator-id-3\" class=\"sk-toggleable__label sk-toggleable__label-arrow\">LogisticRegression</label><div class=\"sk-toggleable__content\"><pre>LogisticRegression()</pre></div></div></div></div></div>"
      ],
      "text/plain": [
       "LogisticRegression()"
      ]
     },
     "execution_count": 13,
     "metadata": {},
     "output_type": "execute_result"
    }
   ],
   "source": [
    "exam_2_lr.fit(X_train, y_train)"
   ]
  },
  {
   "cell_type": "code",
   "execution_count": 14,
   "id": "4005bc75",
   "metadata": {},
   "outputs": [
    {
     "name": "stdout",
     "output_type": "stream",
     "text": [
      "[-0.13173123]\n",
      "[[1.5100409  0.12002228]]\n"
     ]
    }
   ],
   "source": [
    "# Print the intercept and coefficients here:\n",
    "print(exam_2_lr.intercept_)\n",
    "print(exam_2_lr.coef_)"
   ]
  },
  {
   "cell_type": "markdown",
   "id": "1661ca35",
   "metadata": {},
   "source": [
    "# Predictions in sklearn\n",
    "\n",
    "Using a trained model, we can predict whether new datapoints belong to the positive class (the group labeled as 1) using the .predict() method."
   ]
  },
  {
   "cell_type": "code",
   "execution_count": 41,
   "id": "e18facb6",
   "metadata": {},
   "outputs": [
    {
     "data": {
      "text/plain": [
       "array([0, 1, 0, 1, 1], dtype=int64)"
      ]
     },
     "execution_count": 41,
     "metadata": {},
     "output_type": "execute_result"
    }
   ],
   "source": [
    "# Print out the predicted outcomes for the test data\n",
    "y_pred = exam_2_lr.predict(X_test)\n",
    "y_pred"
   ]
  },
  {
   "cell_type": "code",
   "execution_count": 42,
   "id": "d30aa723",
   "metadata": {},
   "outputs": [
    {
     "data": {
      "text/plain": [
       "(5,)"
      ]
     },
     "execution_count": 42,
     "metadata": {},
     "output_type": "execute_result"
    }
   ],
   "source": [
    "y_pred.shape"
   ]
  },
  {
   "cell_type": "code",
   "execution_count": 35,
   "id": "e7eaca3b",
   "metadata": {},
   "outputs": [],
   "source": [
    "# Print out the predicted probabilities for the test data\n",
    "y_pre_pro = exam_2_lr.predict_proba(X_test)"
   ]
  },
  {
   "cell_type": "code",
   "execution_count": 36,
   "id": "798f4b0b",
   "metadata": {},
   "outputs": [
    {
     "data": {
      "text/plain": [
       "array([[0.67934073, 0.32065927],\n",
       "       [0.2068119 , 0.7931881 ],\n",
       "       [0.94452517, 0.05547483],\n",
       "       [0.42252072, 0.57747928],\n",
       "       [0.12929566, 0.87070434]])"
      ]
     },
     "execution_count": 36,
     "metadata": {},
     "output_type": "execute_result"
    }
   ],
   "source": [
    "y_pre_pro"
   ]
  },
  {
   "cell_type": "code",
   "execution_count": 37,
   "id": "04074463",
   "metadata": {},
   "outputs": [
    {
     "data": {
      "text/plain": [
       "array([0.32065927, 0.7931881 , 0.05547483, 0.57747928, 0.87070434])"
      ]
     },
     "execution_count": 37,
     "metadata": {},
     "output_type": "execute_result"
    }
   ],
   "source": [
    "y_pre_pro[:,1]"
   ]
  },
  {
   "cell_type": "code",
   "execution_count": 30,
   "id": "01f1d9ea",
   "metadata": {},
   "outputs": [
    {
     "data": {
      "text/plain": [
       "(5,)"
      ]
     },
     "execution_count": 30,
     "metadata": {},
     "output_type": "execute_result"
    }
   ],
   "source": [
    "# Print out the true outcomes for the test data\n",
    "y_test.shape"
   ]
  },
  {
   "cell_type": "code",
   "execution_count": 200,
   "id": "32f22828",
   "metadata": {},
   "outputs": [],
   "source": [
    "# for value,value_1 in zip(y_test,y_train):\n",
    "#     print(abs(value - value_1))"
   ]
  },
  {
   "cell_type": "code",
   "execution_count": 43,
   "id": "d1da6afa",
   "metadata": {},
   "outputs": [],
   "source": [
    "sum = 0\n",
    "for value,value_1 in zip(y_test, y_pred):\n",
    "    if value == value_1:\n",
    "        sum += 1"
   ]
  },
  {
   "cell_type": "code",
   "execution_count": 44,
   "id": "920194f7",
   "metadata": {},
   "outputs": [
    {
     "data": {
      "text/plain": [
       "4"
      ]
     },
     "execution_count": 44,
     "metadata": {},
     "output_type": "execute_result"
    }
   ],
   "source": [
    "sum"
   ]
  },
  {
   "cell_type": "code",
   "execution_count": 45,
   "id": "b577b651",
   "metadata": {},
   "outputs": [
    {
     "data": {
      "text/plain": [
       "0.8"
      ]
     },
     "execution_count": 45,
     "metadata": {},
     "output_type": "execute_result"
    }
   ],
   "source": [
    "acc = sum/len(y_test)\n",
    "acc"
   ]
  },
  {
   "cell_type": "markdown",
   "id": "75d9c0b6",
   "metadata": {},
   "source": [
    "# Classification Thresholding"
   ]
  },
  {
   "attachments": {
    "thresolding.png": {
     "image/png": "[encoded data removed]"
    }
   },
   "cell_type": "markdown",
   "id": "756dbfb6",
   "metadata": {},
   "source": [
    "The classification threshold is a critical parameter in binary classification models, such as logistic regression or support vector machines (SVM). It defines the point at which the model classifies an instance as belonging to the positive class or the negative class.\n",
    "\n",
    "In binary classification, the model calculates a probability score for each instance, representing the likelihood of it belonging to the positive class (often labeled as class 1). To make a binary prediction, the model compares this probability score to the classification threshold. The classification process works as follows:\n",
    "\n",
    "* If the probability score is greater than or equal to the threshold, the instance is classified as the positive class (1).\n",
    "* If the probability score is less than the threshold, the instance is classified as the negative class (0).\n",
    "\n",
    "By default, the threshold for most binary classifiers is set to 0.5. If the predicted probability is 0.5 or higher, the instance is classified as class 1; otherwise, it is classified as class 0.\n",
    "\n",
    "![thresolding.png](attachment:thresolding.png)"
   ]
  },
  {
   "attachments": {
    "thesould_1.png": {
     "image/png": "[encoded data removed]"
    }
   },
   "cell_type": "markdown",
   "id": "b6a3ca96",
   "metadata": {},
   "source": [
    "However, the classification threshold can be adjusted to suit specific needs. For example:\n",
    "\n",
    "* If you prioritize minimizing false positives (misclassifying negatives as positives), you may increase the threshold to make the model more conservative.\n",
    "* If you prioritize minimizing false negatives (misclassifying positives as negatives), you may decrease the threshold to make the model more sensitive.\n",
    "\n",
    "Adjusting the threshold can affect the model's precision, recall, accuracy, and F1-score, depending on the specific problem and business requirements.\n",
    "\n",
    "Keep in mind that adjusting the threshold is often necessary when dealing with imbalanced datasets or when different costs are associated with false positives and false negatives. In these cases, selecting the right threshold becomes crucial for achieving the desired trade-off between precision and recall or other performance metrics.\n",
    "\n",
    "![thesould_1.png](attachment:thesould_1.png)"
   ]
  },
  {
   "cell_type": "code",
   "execution_count": 194,
   "id": "ea0d6bed",
   "metadata": {},
   "outputs": [],
   "source": [
    "# alternative_threshold = 0.7"
   ]
  },
  {
   "cell_type": "markdown",
   "id": "a47a0d50",
   "metadata": {},
   "source": [
    "# Confusion matrix"
   ]
  },
  {
   "attachments": {
    "conf_mat.png": {
     "image/png": "[encoded data removed]"
    }
   },
   "cell_type": "markdown",
   "id": "efbc87e2",
   "metadata": {},
   "source": [
    "A confusion matrix is a useful tool in machine learning and statistical analysis to evaluate the performance of a classification algorithm. It allows you to visualize the performance of a model by comparing the actual labels of a dataset with the predicted labels produced by the model. The matrix is particularly helpful when dealing with binary classification problems, but it can also be extended to multiclass classification.\n",
    "\n",
    "A basic confusion matrix for binary classification looks like this:\n",
    "\n",
    "![conf_mat.png](attachment:conf_mat.png)"
   ]
  },
  {
   "cell_type": "markdown",
   "id": "2281eae7",
   "metadata": {},
   "source": [
    "Let's break down the terms:\n",
    "\n",
    "* True Positive (TP): The number of instances that are correctly predicted as positive by the model.\n",
    "* False Positive (FP): The number of instances that are incorrectly predicted as positive by the model when they are actually negative.\n",
    "* True Negative (TN): The number of instances that are correctly predicted as negative by the model.\n",
    "* False Negative (FN): The number of instances that are incorrectly predicted as negative by the model when they are actually positive."
   ]
  },
  {
   "cell_type": "markdown",
   "id": "dc55a68b",
   "metadata": {},
   "source": [
    "In a multiclass confusion matrix, the layout may vary depending on the number of classes, but the underlying principle remains the same.\n",
    "\n",
    "The confusion matrix helps in calculating various evaluation metrics, such as accuracy, precision, recall (sensitivity), specificity, F1 score, etc., which give deeper insights into the performance of the model.\n",
    "\n",
    "Keep in mind that a good model should have a high number of true positives and true negatives and low numbers of false positives and false negatives, leading to a diagonal dominance in the confusion matrix. However, the choice of the evaluation metric depends on the problem and the specific requirements of the application."
   ]
  },
  {
   "cell_type": "code",
   "execution_count": 1,
   "id": "e9f27c27",
   "metadata": {},
   "outputs": [],
   "source": [
    "from sklearn.metrics import confusion_matrix"
   ]
  },
  {
   "cell_type": "code",
   "execution_count": 47,
   "id": "e73456c8",
   "metadata": {},
   "outputs": [
    {
     "data": {
      "text/plain": [
       "array([[2, 1],\n",
       "       [0, 2]], dtype=int64)"
      ]
     },
     "execution_count": 47,
     "metadata": {},
     "output_type": "execute_result"
    }
   ],
   "source": [
    "confusion_matrix(y_test, y_pred)"
   ]
  },
  {
   "cell_type": "code",
   "execution_count": 48,
   "id": "3c5a8acf",
   "metadata": {},
   "outputs": [
    {
     "data": {
      "text/plain": [
       "5"
      ]
     },
     "execution_count": 48,
     "metadata": {},
     "output_type": "execute_result"
    }
   ],
   "source": [
    "confusion_matrix(y_test, y_pred).sum()"
   ]
  },
  {
   "cell_type": "markdown",
   "id": "a3c17f60",
   "metadata": {},
   "source": [
    "# Accuracy, Recall, Precision, F1 Score"
   ]
  },
  {
   "cell_type": "code",
   "execution_count": 49,
   "id": "53ff31ca",
   "metadata": {},
   "outputs": [],
   "source": [
    "from sklearn.metrics import accuracy_score,precision_score,recall_score,f1_score "
   ]
  },
  {
   "cell_type": "code",
   "execution_count": 50,
   "id": "9359bdfa",
   "metadata": {},
   "outputs": [
    {
     "data": {
      "text/plain": [
       "0.8"
      ]
     },
     "execution_count": 50,
     "metadata": {},
     "output_type": "execute_result"
    }
   ],
   "source": [
    "accuracy_score(y_test, y_pred)"
   ]
  },
  {
   "cell_type": "code",
   "execution_count": 51,
   "id": "d601d62c",
   "metadata": {},
   "outputs": [
    {
     "data": {
      "text/plain": [
       "0.6666666666666666"
      ]
     },
     "execution_count": 51,
     "metadata": {},
     "output_type": "execute_result"
    }
   ],
   "source": [
    "precision_score(y_test, y_pred)"
   ]
  },
  {
   "cell_type": "code",
   "execution_count": 52,
   "id": "864155d6",
   "metadata": {},
   "outputs": [
    {
     "data": {
      "text/plain": [
       "1.0"
      ]
     },
     "execution_count": 52,
     "metadata": {},
     "output_type": "execute_result"
    }
   ],
   "source": [
    "recall_score(y_test, y_pred)"
   ]
  },
  {
   "cell_type": "code",
   "execution_count": 53,
   "id": "30d06061",
   "metadata": {},
   "outputs": [
    {
     "data": {
      "text/plain": [
       "0.8"
      ]
     },
     "execution_count": 53,
     "metadata": {},
     "output_type": "execute_result"
    }
   ],
   "source": [
    "f1_score(y_test, y_pred)"
   ]
  },
  {
   "cell_type": "markdown",
   "id": "1728c452",
   "metadata": {},
   "source": [
    "# Predict Titanic Survival\n",
    "### Project"
   ]
  },
  {
   "cell_type": "code",
   "execution_count": 55,
   "id": "40208a8b",
   "metadata": {},
   "outputs": [
    {
     "data": {
      "text/html": [
       "<div>\n",
       "<style scoped>\n",
       "    .dataframe tbody tr th:only-of-type {\n",
       "        vertical-align: middle;\n",
       "    }\n",
       "\n",
       "    .dataframe tbody tr th {\n",
       "        vertical-align: top;\n",
       "    }\n",
       "\n",
       "    .dataframe thead th {\n",
       "        text-align: right;\n",
       "    }\n",
       "</style>\n",
       "<table border=\"1\" class=\"dataframe\">\n",
       "  <thead>\n",
       "    <tr style=\"text-align: right;\">\n",
       "      <th></th>\n",
       "      <th>PassengerId</th>\n",
       "      <th>Survived</th>\n",
       "      <th>Pclass</th>\n",
       "      <th>Name</th>\n",
       "      <th>Sex</th>\n",
       "      <th>Age</th>\n",
       "      <th>SibSp</th>\n",
       "      <th>Parch</th>\n",
       "      <th>Ticket</th>\n",
       "      <th>Fare</th>\n",
       "      <th>Cabin</th>\n",
       "      <th>Embarked</th>\n",
       "    </tr>\n",
       "  </thead>\n",
       "  <tbody>\n",
       "    <tr>\n",
       "      <th>0</th>\n",
       "      <td>1</td>\n",
       "      <td>0</td>\n",
       "      <td>3</td>\n",
       "      <td>Braund, Mr. Owen Harris</td>\n",
       "      <td>male</td>\n",
       "      <td>22.0</td>\n",
       "      <td>1</td>\n",
       "      <td>0</td>\n",
       "      <td>A/5 21171</td>\n",
       "      <td>7.2500</td>\n",
       "      <td>NaN</td>\n",
       "      <td>S</td>\n",
       "    </tr>\n",
       "    <tr>\n",
       "      <th>1</th>\n",
       "      <td>2</td>\n",
       "      <td>1</td>\n",
       "      <td>1</td>\n",
       "      <td>Cumings, Mrs. John Bradley (Florence Briggs Th...</td>\n",
       "      <td>female</td>\n",
       "      <td>38.0</td>\n",
       "      <td>1</td>\n",
       "      <td>0</td>\n",
       "      <td>PC 17599</td>\n",
       "      <td>71.2833</td>\n",
       "      <td>C85</td>\n",
       "      <td>C</td>\n",
       "    </tr>\n",
       "    <tr>\n",
       "      <th>2</th>\n",
       "      <td>3</td>\n",
       "      <td>1</td>\n",
       "      <td>3</td>\n",
       "      <td>Heikkinen, Miss. Laina</td>\n",
       "      <td>female</td>\n",
       "      <td>26.0</td>\n",
       "      <td>0</td>\n",
       "      <td>0</td>\n",
       "      <td>STON/O2. 3101282</td>\n",
       "      <td>7.9250</td>\n",
       "      <td>NaN</td>\n",
       "      <td>S</td>\n",
       "    </tr>\n",
       "    <tr>\n",
       "      <th>3</th>\n",
       "      <td>4</td>\n",
       "      <td>1</td>\n",
       "      <td>1</td>\n",
       "      <td>Futrelle, Mrs. Jacques Heath (Lily May Peel)</td>\n",
       "      <td>female</td>\n",
       "      <td>35.0</td>\n",
       "      <td>1</td>\n",
       "      <td>0</td>\n",
       "      <td>113803</td>\n",
       "      <td>53.1000</td>\n",
       "      <td>C123</td>\n",
       "      <td>S</td>\n",
       "    </tr>\n",
       "    <tr>\n",
       "      <th>4</th>\n",
       "      <td>5</td>\n",
       "      <td>0</td>\n",
       "      <td>3</td>\n",
       "      <td>Allen, Mr. William Henry</td>\n",
       "      <td>male</td>\n",
       "      <td>35.0</td>\n",
       "      <td>0</td>\n",
       "      <td>0</td>\n",
       "      <td>373450</td>\n",
       "      <td>8.0500</td>\n",
       "      <td>NaN</td>\n",
       "      <td>S</td>\n",
       "    </tr>\n",
       "  </tbody>\n",
       "</table>\n",
       "</div>"
      ],
      "text/plain": [
       "   PassengerId  Survived  Pclass  \\\n",
       "0            1         0       3   \n",
       "1            2         1       1   \n",
       "2            3         1       3   \n",
       "3            4         1       1   \n",
       "4            5         0       3   \n",
       "\n",
       "                                                Name     Sex   Age  SibSp  \\\n",
       "0                            Braund, Mr. Owen Harris    male  22.0      1   \n",
       "1  Cumings, Mrs. John Bradley (Florence Briggs Th...  female  38.0      1   \n",
       "2                             Heikkinen, Miss. Laina  female  26.0      0   \n",
       "3       Futrelle, Mrs. Jacques Heath (Lily May Peel)  female  35.0      1   \n",
       "4                           Allen, Mr. William Henry    male  35.0      0   \n",
       "\n",
       "   Parch            Ticket     Fare Cabin Embarked  \n",
       "0      0         A/5 21171   7.2500   NaN        S  \n",
       "1      0          PC 17599  71.2833   C85        C  \n",
       "2      0  STON/O2. 3101282   7.9250   NaN        S  \n",
       "3      0            113803  53.1000  C123        S  \n",
       "4      0            373450   8.0500   NaN        S  "
      ]
     },
     "execution_count": 55,
     "metadata": {},
     "output_type": "execute_result"
    }
   ],
   "source": [
    "tit_surv = pd.read_csv(\"passengers.csv\")\n",
    "tit_surv.head()"
   ]
  },
  {
   "cell_type": "code",
   "execution_count": 56,
   "id": "0e4b2b44",
   "metadata": {},
   "outputs": [],
   "source": [
    "tit_surv[\"Sex\"] = tit_surv['Sex'].map({'male': 0, 'female': 1})"
   ]
  },
  {
   "cell_type": "code",
   "execution_count": 57,
   "id": "c3de9542",
   "metadata": {},
   "outputs": [
    {
     "data": {
      "text/html": [
       "<div>\n",
       "<style scoped>\n",
       "    .dataframe tbody tr th:only-of-type {\n",
       "        vertical-align: middle;\n",
       "    }\n",
       "\n",
       "    .dataframe tbody tr th {\n",
       "        vertical-align: top;\n",
       "    }\n",
       "\n",
       "    .dataframe thead th {\n",
       "        text-align: right;\n",
       "    }\n",
       "</style>\n",
       "<table border=\"1\" class=\"dataframe\">\n",
       "  <thead>\n",
       "    <tr style=\"text-align: right;\">\n",
       "      <th></th>\n",
       "      <th>PassengerId</th>\n",
       "      <th>Survived</th>\n",
       "      <th>Pclass</th>\n",
       "      <th>Name</th>\n",
       "      <th>Sex</th>\n",
       "      <th>Age</th>\n",
       "      <th>SibSp</th>\n",
       "      <th>Parch</th>\n",
       "      <th>Ticket</th>\n",
       "      <th>Fare</th>\n",
       "      <th>Cabin</th>\n",
       "      <th>Embarked</th>\n",
       "    </tr>\n",
       "  </thead>\n",
       "  <tbody>\n",
       "    <tr>\n",
       "      <th>0</th>\n",
       "      <td>1</td>\n",
       "      <td>0</td>\n",
       "      <td>3</td>\n",
       "      <td>Braund, Mr. Owen Harris</td>\n",
       "      <td>0</td>\n",
       "      <td>22.0</td>\n",
       "      <td>1</td>\n",
       "      <td>0</td>\n",
       "      <td>A/5 21171</td>\n",
       "      <td>7.2500</td>\n",
       "      <td>NaN</td>\n",
       "      <td>S</td>\n",
       "    </tr>\n",
       "    <tr>\n",
       "      <th>1</th>\n",
       "      <td>2</td>\n",
       "      <td>1</td>\n",
       "      <td>1</td>\n",
       "      <td>Cumings, Mrs. John Bradley (Florence Briggs Th...</td>\n",
       "      <td>1</td>\n",
       "      <td>38.0</td>\n",
       "      <td>1</td>\n",
       "      <td>0</td>\n",
       "      <td>PC 17599</td>\n",
       "      <td>71.2833</td>\n",
       "      <td>C85</td>\n",
       "      <td>C</td>\n",
       "    </tr>\n",
       "    <tr>\n",
       "      <th>2</th>\n",
       "      <td>3</td>\n",
       "      <td>1</td>\n",
       "      <td>3</td>\n",
       "      <td>Heikkinen, Miss. Laina</td>\n",
       "      <td>1</td>\n",
       "      <td>26.0</td>\n",
       "      <td>0</td>\n",
       "      <td>0</td>\n",
       "      <td>STON/O2. 3101282</td>\n",
       "      <td>7.9250</td>\n",
       "      <td>NaN</td>\n",
       "      <td>S</td>\n",
       "    </tr>\n",
       "    <tr>\n",
       "      <th>3</th>\n",
       "      <td>4</td>\n",
       "      <td>1</td>\n",
       "      <td>1</td>\n",
       "      <td>Futrelle, Mrs. Jacques Heath (Lily May Peel)</td>\n",
       "      <td>1</td>\n",
       "      <td>35.0</td>\n",
       "      <td>1</td>\n",
       "      <td>0</td>\n",
       "      <td>113803</td>\n",
       "      <td>53.1000</td>\n",
       "      <td>C123</td>\n",
       "      <td>S</td>\n",
       "    </tr>\n",
       "    <tr>\n",
       "      <th>4</th>\n",
       "      <td>5</td>\n",
       "      <td>0</td>\n",
       "      <td>3</td>\n",
       "      <td>Allen, Mr. William Henry</td>\n",
       "      <td>0</td>\n",
       "      <td>35.0</td>\n",
       "      <td>0</td>\n",
       "      <td>0</td>\n",
       "      <td>373450</td>\n",
       "      <td>8.0500</td>\n",
       "      <td>NaN</td>\n",
       "      <td>S</td>\n",
       "    </tr>\n",
       "  </tbody>\n",
       "</table>\n",
       "</div>"
      ],
      "text/plain": [
       "   PassengerId  Survived  Pclass  \\\n",
       "0            1         0       3   \n",
       "1            2         1       1   \n",
       "2            3         1       3   \n",
       "3            4         1       1   \n",
       "4            5         0       3   \n",
       "\n",
       "                                                Name  Sex   Age  SibSp  Parch  \\\n",
       "0                            Braund, Mr. Owen Harris    0  22.0      1      0   \n",
       "1  Cumings, Mrs. John Bradley (Florence Briggs Th...    1  38.0      1      0   \n",
       "2                             Heikkinen, Miss. Laina    1  26.0      0      0   \n",
       "3       Futrelle, Mrs. Jacques Heath (Lily May Peel)    1  35.0      1      0   \n",
       "4                           Allen, Mr. William Henry    0  35.0      0      0   \n",
       "\n",
       "             Ticket     Fare Cabin Embarked  \n",
       "0         A/5 21171   7.2500   NaN        S  \n",
       "1          PC 17599  71.2833   C85        C  \n",
       "2  STON/O2. 3101282   7.9250   NaN        S  \n",
       "3            113803  53.1000  C123        S  \n",
       "4            373450   8.0500   NaN        S  "
      ]
     },
     "execution_count": 57,
     "metadata": {},
     "output_type": "execute_result"
    }
   ],
   "source": [
    "tit_surv.head()"
   ]
  },
  {
   "cell_type": "code",
   "execution_count": null,
   "id": "8e106129",
   "metadata": {},
   "outputs": [],
   "source": []
  }
 ],
 "metadata": {
  "kernelspec": {
   "display_name": "Python 3 (ipykernel)",
   "language": "python",
   "name": "python3"
  },
  "language_info": {
   "codemirror_mode": {
    "name": "ipython",
    "version": 3
   },
   "file_extension": ".py",
   "mimetype": "text/x-python",
   "name": "python",
   "nbconvert_exporter": "python",
   "pygments_lexer": "ipython3",
   "version": "3.11.4"
  }
 },
 "nbformat": 4,
 "nbformat_minor": 5
}
